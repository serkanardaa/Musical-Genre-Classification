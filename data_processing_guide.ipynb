{
 "cells": [
  {
   "cell_type": "markdown",
   "metadata": {},
   "source": [
    "# Guide for data_processing.py file\n",
    "\n"
   ]
  },
  {
   "cell_type": "markdown",
   "metadata": {},
   "source": [
    "## Importing required libraries"
   ]
  },
  {
   "cell_type": "code",
   "execution_count": 12,
   "metadata": {},
   "outputs": [],
   "source": [
    "%matplotlib inline\n",
    "\n",
    "import os\n",
    "import shutil\n",
    "import IPython.display as ipd\n",
    "import numpy as np\n",
    "import pandas as pd\n",
    "import matplotlib.pyplot as plt\n",
    "import seaborn as sns\n",
    "import sklearn as skl\n",
    "import sklearn.utils, sklearn.preprocessing, sklearn.decomposition, sklearn.svm\n",
    "import librosa\n",
    "import librosa.display\n",
    "\n",
    "import utils\n",
    "import data_processing as datap\n",
    "\n",
    "plt.rcParams['figure.figsize'] = (17, 5)"
   ]
  },
  {
   "cell_type": "markdown",
   "metadata": {},
   "source": [
    "## Importing music files and metadata files"
   ]
  },
  {
   "cell_type": "code",
   "execution_count": 5,
   "metadata": {},
   "outputs": [
    {
     "name": "stdout",
     "output_type": "stream",
     "text": [
      "shape of tracks.csv file is : (106574, 52)\n",
      "shape of genres.csv file is : (163, 4)\n",
      "shape of features.csv file is : (106574, 518)\n",
      "shape of echonest.csv file is : (13129, 249)\n"
     ]
    }
   ],
   "source": [
    "# Load metadata and features.\n",
    "tracks = utils.load('data/fma_metadata/tracks.csv')\n",
    "genres = utils.load('data/fma_metadata/genres.csv')\n",
    "features = utils.load('data/fma_metadata/features.csv')\n",
    "echonest = utils.load('data/fma_metadata/echonest.csv')\n",
    "\n",
    "np.testing.assert_array_equal(features.index, tracks.index)\n",
    "assert echonest.index.isin(tracks.index).all()\n",
    "\n",
    "print(\"shape of tracks.csv file is :\", tracks.shape)\n",
    "print(\"shape of genres.csv file is :\", genres.shape)\n",
    "print(\"shape of features.csv file is :\", features.shape)\n",
    "print(\"shape of echonest.csv file is :\", echonest.shape)\n",
    "\n"
   ]
  },
  {
   "cell_type": "markdown",
   "metadata": {},
   "source": [
    "## 1 Metadata\n",
    "\n",
    "The metadata table, a CSV file in the `fma_metadata.zip` archive, is composed of many colums:\n",
    "1. The index is the ID of the song, taken from the website, used as the name of the audio file.\n",
    "2. Per-track, per-album and per-artist metadata from the Free Music Archive website.\n",
    "3. Two columns to indicate the subset (small, medium, large) and the split (training, validation, test)."
   ]
  },
  {
   "cell_type": "code",
   "execution_count": 6,
   "metadata": {
    "scrolled": true
   },
   "outputs": [
    {
     "name": "stdout",
     "output_type": "stream",
     "text": [
      "-----dtypes of tracks.csv-----\n",
      "album   comments                      int64\n",
      "        date_created         datetime64[ns]\n",
      "        date_released        datetime64[ns]\n",
      "        engineer                     object\n",
      "        favorites                     int64\n",
      "        id                            int64\n",
      "        information                category\n",
      "        listens                       int64\n",
      "        producer                     object\n",
      "        tags                         object\n",
      "        title                        object\n",
      "        tracks                        int64\n",
      "        type                       category\n",
      "artist  active_year_begin    datetime64[ns]\n",
      "        active_year_end      datetime64[ns]\n",
      "        associated_labels            object\n",
      "        bio                        category\n",
      "        comments                      int64\n",
      "        date_created         datetime64[ns]\n",
      "        favorites                     int64\n",
      "        id                            int64\n",
      "        latitude                    float64\n",
      "        location                     object\n",
      "        longitude                   float64\n",
      "        members                      object\n",
      "        name                         object\n",
      "        related_projects             object\n",
      "        tags                         object\n",
      "        website                      object\n",
      "        wikipedia_page               object\n",
      "set     split                        object\n",
      "        subset                     category\n",
      "track   bit_rate                      int64\n",
      "        comments                      int64\n",
      "        composer                     object\n",
      "        date_created         datetime64[ns]\n",
      "        date_recorded        datetime64[ns]\n",
      "        duration                      int64\n",
      "        favorites                     int64\n",
      "        genre_top                  category\n",
      "        genres                       object\n",
      "        genres_all                   object\n",
      "        information                  object\n",
      "        interest                      int64\n",
      "        language_code                object\n",
      "        license                    category\n",
      "        listens                       int64\n",
      "        lyricist                     object\n",
      "        number                        int64\n",
      "        publisher                    object\n",
      "        tags                         object\n",
      "        title                        object\n",
      "dtype: object\n",
      "-----dtypes of genres.csv-----\n",
      "#tracks       int64\n",
      "parent        int64\n",
      "title        object\n",
      "top_level     int64\n",
      "dtype: object\n",
      "-----dtypes of features.csv-----\n",
      "feature      statistics  number\n",
      "chroma_cens  kurtosis    01        float64\n",
      "                         02        float64\n",
      "                         03        float64\n",
      "                         04        float64\n",
      "                         05        float64\n",
      "                                    ...   \n",
      "zcr          mean        01        float64\n",
      "             median      01        float64\n",
      "             min         01        float64\n",
      "             skew        01        float64\n",
      "             std         01        float64\n",
      "Length: 518, dtype: object\n",
      "-----dtypes of echonest.csv-----\n",
      "echonest  audio_features     acousticness        float64\n",
      "                             danceability        float64\n",
      "                             energy              float64\n",
      "                             instrumentalness    float64\n",
      "                             liveness            float64\n",
      "                                                  ...   \n",
      "          temporal_features  219                 float64\n",
      "                             220                 float64\n",
      "                             221                 float64\n",
      "                             222                 float64\n",
      "                             223                 float64\n",
      "Length: 249, dtype: object\n"
     ]
    }
   ],
   "source": [
    "print(\"-----dtypes of tracks.csv-----\")\n",
    "print(tracks.dtypes)\n",
    "print(\"-----dtypes of genres.csv-----\")\n",
    "print(genres.dtypes)\n",
    "print(\"-----dtypes of features.csv-----\")\n",
    "print(features.dtypes)\n",
    "print(\"-----dtypes of echonest.csv-----\")\n",
    "print(echonest.dtypes)"
   ]
  },
  {
   "cell_type": "markdown",
   "metadata": {},
   "source": [
    "## 2 Splitting Example"
   ]
  },
  {
   "cell_type": "markdown",
   "metadata": {},
   "source": [
    "In this part we call splitter function to split the given genres according to tracks dataframe artist ordering"
   ]
  },
  {
   "cell_type": "code",
   "execution_count": 13,
   "metadata": {
    "scrolled": true
   },
   "outputs": [
    {
     "name": "stdout",
     "output_type": "stream",
     "text": [
      "Distributing 400 tracks of Hip-Hop genre to training folder...\n",
      "Folder 'train' created for genre 'Hip-Hop'\n",
      "Distributing 50 tracks of Hip-Hop genre to validation folder...\n",
      "Folder 'validation' created for genre 'Hip-Hop'\n",
      "Distributing 50 tracks of Hip-Hop genre to test folder...\n",
      "Folder 'test' created for genre 'Hip-Hop'\n",
      "Distributing 400 tracks of Pop genre to training folder...\n",
      "Folder 'train' created for genre 'Pop'\n",
      "Distributing 50 tracks of Pop genre to validation folder...\n",
      "Folder 'validation' created for genre 'Pop'\n",
      "Distributing 50 tracks of Pop genre to test folder...\n",
      "Folder 'test' created for genre 'Pop'\n",
      "Distributing 400 tracks of Rock genre to training folder...\n",
      "Folder 'train' created for genre 'Rock'\n",
      "Distributing 50 tracks of Rock genre to validation folder...\n",
      "Folder 'validation' created for genre 'Rock'\n",
      "Distributing 50 tracks of Rock genre to test folder...\n",
      "Folder 'test' created for genre 'Rock'\n",
      "Distributing 400 tracks of Folk genre to training folder...\n",
      "Folder 'train' created for genre 'Folk'\n",
      "Distributing 50 tracks of Folk genre to validation folder...\n",
      "Folder 'validation' created for genre 'Folk'\n",
      "Distributing 50 tracks of Folk genre to test folder...\n",
      "Folder 'test' created for genre 'Folk'\n",
      "Distributing 400 tracks of Experimental genre to training folder...\n",
      "Folder 'train' created for genre 'Experimental'\n",
      "Distributing 50 tracks of Experimental genre to validation folder...\n",
      "Folder 'validation' created for genre 'Experimental'\n",
      "Distributing 50 tracks of Experimental genre to test folder...\n",
      "Folder 'test' created for genre 'Experimental'\n",
      "Distributing 400 tracks of Electronic genre to training folder...\n",
      "Folder 'train' created for genre 'Electronic'\n",
      "Distributing 50 tracks of Electronic genre to validation folder...\n",
      "Folder 'validation' created for genre 'Electronic'\n",
      "Distributing 50 tracks of Electronic genre to test folder...\n",
      "Folder 'test' created for genre 'Electronic'\n",
      "Distributing 400 tracks of Classical genre to training folder...\n",
      "Folder 'train' created for genre 'Classical'\n",
      "Distributing 50 tracks of Classical genre to validation folder...\n",
      "Folder 'validation' created for genre 'Classical'\n",
      "Distributing 50 tracks of Classical genre to test folder...\n",
      "Folder 'test' created for genre 'Classical'\n",
      "Distributing 400 tracks of Old-Time / Historic genre to training folder...\n",
      "Folder 'train' created for genre 'Old-Time / Historic'\n",
      "Distributing 50 tracks of Old-Time / Historic genre to validation folder...\n",
      "Folder 'validation' created for genre 'Old-Time / Historic'\n",
      "Distributing 50 tracks of Old-Time / Historic genre to test folder...\n",
      "Folder 'test' created for genre 'Old-Time / Historic'\n"
     ]
    }
   ],
   "source": [
    "chosen_genres = ['Hip-Hop', 'Pop', 'Rock', 'Folk', 'Experimental', 'Electronic', 'Classical', 'Old-Time / Historic' ]\n",
    "train_perc = 80\n",
    "validation_perc = 10\n",
    "test_perc = 10\n",
    "datap.splitter(train_perc, validation_perc, test_perc ,chosen_genres, tracks)"
   ]
  },
  {
   "cell_type": "markdown",
   "metadata": {},
   "source": [
    "## 3 Resetting Example"
   ]
  },
  {
   "cell_type": "markdown",
   "metadata": {},
   "source": [
    "With this function, we reset the files and move them back to genres before using different values of splits"
   ]
  },
  {
   "cell_type": "code",
   "execution_count": 17,
   "metadata": {
    "scrolled": false
   },
   "outputs": [
    {
     "name": "stdout",
     "output_type": "stream",
     "text": [
      "Resetting training data of Hip-Hop genre\n",
      "Resetting validation data of Hip-Hop genre\n",
      "Resetting test data of Hip-Hop genre\n",
      "Resetting training data of Pop genre\n",
      "Resetting validation data of Pop genre\n",
      "Resetting test data of Pop genre\n",
      "Resetting training data of Rock genre\n",
      "Resetting validation data of Rock genre\n",
      "Resetting test data of Rock genre\n",
      "Resetting training data of Folk genre\n",
      "Resetting validation data of Folk genre\n",
      "Resetting test data of Folk genre\n",
      "Resetting training data of Experimental genre\n",
      "Resetting validation data of Experimental genre\n",
      "Resetting test data of Experimental genre\n",
      "Resetting training data of Electronic genre\n",
      "Resetting validation data of Electronic genre\n",
      "Resetting test data of Electronic genre\n",
      "Resetting training data of Classical genre\n",
      "Resetting validation data of Classical genre\n",
      "Resetting test data of Classical genre\n",
      "Resetting training data of Old-Time / Historic genre\n",
      "Resetting validation data of Old-Time / Historic genre\n",
      "Resetting test data of Old-Time / Historic genre\n"
     ]
    }
   ],
   "source": [
    "datap.data_reset(chosen_genres)"
   ]
  },
  {
   "cell_type": "markdown",
   "metadata": {},
   "source": [
    "### Note: After splitting, you have to reset the data in order to split with different percentages"
   ]
  },
  {
   "cell_type": "markdown",
   "metadata": {},
   "source": [
    "## 4 Checking statistics"
   ]
  },
  {
   "cell_type": "markdown",
   "metadata": {},
   "source": [
    "Let's check some statistics and compare these data. First, let's split the data again"
   ]
  },
  {
   "cell_type": "code",
   "execution_count": 15,
   "metadata": {
    "scrolled": true
   },
   "outputs": [
    {
     "name": "stdout",
     "output_type": "stream",
     "text": [
      "Distributing 400 tracks of Hip-Hop genre to training folder...\n",
      "Folder 'train' created for genre 'Hip-Hop'\n",
      "Distributing 50 tracks of Hip-Hop genre to validation folder...\n",
      "Folder 'validation' created for genre 'Hip-Hop'\n",
      "Distributing 50 tracks of Hip-Hop genre to test folder...\n",
      "Folder 'test' created for genre 'Hip-Hop'\n",
      "Distributing 400 tracks of Pop genre to training folder...\n",
      "Folder 'train' created for genre 'Pop'\n",
      "Distributing 50 tracks of Pop genre to validation folder...\n",
      "Folder 'validation' created for genre 'Pop'\n",
      "Distributing 50 tracks of Pop genre to test folder...\n",
      "Folder 'test' created for genre 'Pop'\n",
      "Distributing 400 tracks of Rock genre to training folder...\n",
      "Folder 'train' created for genre 'Rock'\n",
      "Distributing 50 tracks of Rock genre to validation folder...\n",
      "Folder 'validation' created for genre 'Rock'\n",
      "Distributing 50 tracks of Rock genre to test folder...\n",
      "Folder 'test' created for genre 'Rock'\n",
      "Distributing 400 tracks of Folk genre to training folder...\n",
      "Folder 'train' created for genre 'Folk'\n",
      "Distributing 50 tracks of Folk genre to validation folder...\n",
      "Folder 'validation' created for genre 'Folk'\n",
      "Distributing 50 tracks of Folk genre to test folder...\n",
      "Folder 'test' created for genre 'Folk'\n",
      "Distributing 400 tracks of Experimental genre to training folder...\n",
      "Folder 'train' created for genre 'Experimental'\n",
      "Distributing 50 tracks of Experimental genre to validation folder...\n",
      "Folder 'validation' created for genre 'Experimental'\n",
      "Distributing 50 tracks of Experimental genre to test folder...\n",
      "Folder 'test' created for genre 'Experimental'\n",
      "Distributing 400 tracks of Electronic genre to training folder...\n",
      "Folder 'train' created for genre 'Electronic'\n",
      "Distributing 50 tracks of Electronic genre to validation folder...\n",
      "Folder 'validation' created for genre 'Electronic'\n",
      "Distributing 50 tracks of Electronic genre to test folder...\n",
      "Folder 'test' created for genre 'Electronic'\n",
      "Distributing 400 tracks of Classical genre to training folder...\n",
      "Folder 'train' created for genre 'Classical'\n",
      "Distributing 50 tracks of Classical genre to validation folder...\n",
      "Folder 'validation' created for genre 'Classical'\n",
      "Distributing 50 tracks of Classical genre to test folder...\n",
      "Folder 'test' created for genre 'Classical'\n",
      "Distributing 400 tracks of Old-Time / Historic genre to training folder...\n",
      "Folder 'train' created for genre 'Old-Time / Historic'\n",
      "Distributing 50 tracks of Old-Time / Historic genre to validation folder...\n",
      "Folder 'validation' created for genre 'Old-Time / Historic'\n",
      "Distributing 50 tracks of Old-Time / Historic genre to test folder...\n",
      "Folder 'test' created for genre 'Old-Time / Historic'\n"
     ]
    }
   ],
   "source": [
    "datap.splitter(train_perc, validation_perc, test_perc ,chosen_genres, tracks)"
   ]
  },
  {
   "cell_type": "code",
   "execution_count": 16,
   "metadata": {},
   "outputs": [
    {
     "name": "stdout",
     "output_type": "stream",
     "text": [
      "---Statistics of Rock Training Tracks---\n",
      "+++ The data contains: 400 tracks\n",
      "+++ The genre is:  ['Rock']\n",
      "+++ The data contains 82 artists \n",
      "+++ The data contains 100 albums\n",
      "---Statistics of Rock Validation Tracks---\n",
      "+++ The data contains: 50 tracks\n",
      "+++ The genre is:  ['Rock']\n",
      "+++ The data contains 11 artists \n",
      "+++ The data contains 13 albums\n",
      "---Statistics of Rock Test Tracks---\n",
      "+++ The data contains: 50 tracks\n",
      "+++ The genre is:  ['Rock']\n",
      "+++ The data contains 18 artists \n",
      "+++ The data contains 22 albums\n",
      "---Artist comparison of Training and Validation Data---\n",
      "+++ The first dataset contains 82 artists \n",
      "+++ The second dataset contains 11 artists \n",
      "+++ The datasets have 1 common artists\n",
      "---Artist comparison of Training and Test Data---\n",
      "+++ The first dataset contains 82 artists \n",
      "+++ The second dataset contains 18 artists \n",
      "+++ The datasets have 0 common artists\n"
     ]
    }
   ],
   "source": [
    "path_train = \"datasets/Rock/train\"\n",
    "path_val = \"datasets/Rock/validation\"\n",
    "path_test = \"datasets/Rock/test\"\n",
    "\n",
    "rock_train_tracks = np.array(os.listdir(path_train))\n",
    "rock_val_tracks = np.array(os.listdir(path_val))\n",
    "rock_train_test = np.array(os.listdir(path_test))\n",
    "\n",
    "print(\"---Statistics of Rock Training Tracks---\")\n",
    "datap.show_statistics(rock_train_tracks, tracks)\n",
    "print(\"---Statistics of Rock Validation Tracks---\")\n",
    "datap.show_statistics(rock_val_tracks, tracks)\n",
    "print(\"---Statistics of Rock Test Tracks---\")\n",
    "datap.show_statistics(rock_train_test, tracks)\n",
    "\n",
    "print(\"---Artist comparison of Training and Validation Data---\")\n",
    "datap.common_artists(rock_train_tracks,rock_val_tracks,tracks)\n",
    "print(\"---Artist comparison of Training and Test Data---\")\n",
    "datap.common_artists(rock_train_tracks,rock_train_test,tracks)\n",
    "\n",
    "\n",
    "\n",
    "\n",
    "\n",
    "\n"
   ]
  }
 ],
 "metadata": {
  "kernelspec": {
   "display_name": "Python 3",
   "language": "python",
   "name": "python3"
  },
  "language_info": {
   "codemirror_mode": {
    "name": "ipython",
    "version": 3
   },
   "file_extension": ".py",
   "mimetype": "text/x-python",
   "name": "python",
   "nbconvert_exporter": "python",
   "pygments_lexer": "ipython3",
   "version": "3.8.5"
  }
 },
 "nbformat": 4,
 "nbformat_minor": 2
}
