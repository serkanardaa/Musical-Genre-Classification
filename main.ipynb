{
 "cells": [
  {
   "cell_type": "markdown",
   "id": "cda4d549",
   "metadata": {},
   "source": [
    "# Musical Genre Recognition : Traditional Methods vs. Deep Learning\n"
   ]
  },
  {
   "cell_type": "markdown",
   "id": "8df6cb96",
   "metadata": {},
   "source": [
    "## Preparations on dataset"
   ]
  },
  {
   "cell_type": "markdown",
   "id": "03cb97bf",
   "metadata": {},
   "source": [
    "In this part, we are going to import important libraries and metadata files that were provided my the FMA database creators in order to filter the tracks according to their genres and apply different distributions to see how having common artists between datasets affect the accuracy"
   ]
  },
  {
   "cell_type": "code",
   "execution_count": 50,
   "id": "ed3e5326",
   "metadata": {},
   "outputs": [],
   "source": [
    "%matplotlib inline\n",
    "import os; import shutil; import IPython.display as ipd; import numpy as np; import pandas as pd\n",
    "import matplotlib.pyplot as plt; import seaborn as sns; import sklearn as skl\n",
    "import sklearn.utils, sklearn.preprocessing, sklearn.decomposition, sklearn.svm; import librosa; import librosa.display\n",
    "import utils; import data_processing as datap; import feature_extraction as fext; import itertools as it\n",
    "from scipy import stats\n",
    "\n",
    "plt.rcParams['figure.figsize'] = (17, 10)"
   ]
  },
  {
   "cell_type": "code",
   "execution_count": 2,
   "id": "8f16b157",
   "metadata": {},
   "outputs": [
    {
     "name": "stdout",
     "output_type": "stream",
     "text": [
      "shape of tracks.csv file is : (106574, 52)\n",
      "shape of genres.csv file is : (163, 4)\n",
      "shape of features.csv file is : (106574, 518)\n",
      "shape of echonest.csv file is : (13129, 249)\n"
     ]
    }
   ],
   "source": [
    "# Load metadata and features.\n",
    "tracks = utils.load('data/fma_metadata/tracks.csv')\n",
    "genres = utils.load('data/fma_metadata/genres.csv')\n",
    "features = utils.load('data/fma_metadata/features.csv')\n",
    "echonest = utils.load('data/fma_metadata/echonest.csv')\n",
    "\n",
    "np.testing.assert_array_equal(features.index, tracks.index)\n",
    "assert echonest.index.isin(tracks.index).all()\n",
    "\n",
    "print(\"shape of tracks.csv file is :\", tracks.shape)\n",
    "print(\"shape of genres.csv file is :\", genres.shape)\n",
    "print(\"shape of features.csv file is :\", features.shape)\n",
    "print(\"shape of echonest.csv file is :\", echonest.shape)"
   ]
  },
  {
   "cell_type": "markdown",
   "id": "85b3e3b4",
   "metadata": {},
   "source": [
    "### Distribution of tracks with artist order"
   ]
  },
  {
   "cell_type": "markdown",
   "id": "a10ec2be",
   "metadata": {},
   "source": [
    "Here we define the genres we are going to use in the database and we separate the tracks into training, validation, and test datasets by ordering artist name so that there will be nearly no common artists between datasets in order to detect only \"genre\" and not the \"artist\"."
   ]
  },
  {
   "cell_type": "code",
   "execution_count": 3,
   "id": "4f252b6c",
   "metadata": {},
   "outputs": [
    {
     "name": "stdout",
     "output_type": "stream",
     "text": [
      "Resetting training data of Hip-Hop genre\n",
      "Resetting validation data of Hip-Hop genre\n",
      "Resetting test data of Hip-Hop genre\n",
      "Resetting training data of Pop genre\n",
      "Resetting validation data of Pop genre\n",
      "Resetting test data of Pop genre\n",
      "Resetting training data of Rock genre\n",
      "Resetting validation data of Rock genre\n",
      "Resetting test data of Rock genre\n",
      "Resetting training data of Folk genre\n",
      "Resetting validation data of Folk genre\n",
      "Resetting test data of Folk genre\n",
      "Resetting training data of Experimental genre\n",
      "Resetting validation data of Experimental genre\n",
      "Resetting test data of Experimental genre\n",
      "Resetting training data of Electronic genre\n",
      "Resetting validation data of Electronic genre\n",
      "Resetting test data of Electronic genre\n",
      "Resetting training data of Classical genre\n",
      "Resetting validation data of Classical genre\n",
      "Resetting test data of Classical genre\n",
      "Resetting training data of Old-Time / Historic genre\n",
      "Resetting validation data of Old-Time / Historic genre\n",
      "Resetting test data of Old-Time / Historic genre\n",
      "Distributing 400 tracks of Hip-Hop genre to training folder...\n",
      "Folder 'train' created for genre 'Hip-Hop'\n",
      "Distributing 50 tracks of Hip-Hop genre to validation folder...\n",
      "Folder 'validation' created for genre 'Hip-Hop'\n",
      "Distributing 50 tracks of Hip-Hop genre to test folder...\n",
      "Folder 'test' created for genre 'Hip-Hop'\n",
      "Distributing 400 tracks of Pop genre to training folder...\n",
      "Folder 'train' created for genre 'Pop'\n",
      "Distributing 50 tracks of Pop genre to validation folder...\n",
      "Folder 'validation' created for genre 'Pop'\n",
      "Distributing 50 tracks of Pop genre to test folder...\n",
      "Folder 'test' created for genre 'Pop'\n",
      "Distributing 400 tracks of Rock genre to training folder...\n",
      "Folder 'train' created for genre 'Rock'\n",
      "Distributing 50 tracks of Rock genre to validation folder...\n",
      "Folder 'validation' created for genre 'Rock'\n",
      "Distributing 50 tracks of Rock genre to test folder...\n",
      "Folder 'test' created for genre 'Rock'\n",
      "Distributing 400 tracks of Folk genre to training folder...\n",
      "Folder 'train' created for genre 'Folk'\n",
      "Distributing 50 tracks of Folk genre to validation folder...\n",
      "Folder 'validation' created for genre 'Folk'\n",
      "Distributing 50 tracks of Folk genre to test folder...\n",
      "Folder 'test' created for genre 'Folk'\n",
      "Distributing 400 tracks of Experimental genre to training folder...\n",
      "Folder 'train' created for genre 'Experimental'\n",
      "Distributing 50 tracks of Experimental genre to validation folder...\n",
      "Folder 'validation' created for genre 'Experimental'\n",
      "Distributing 50 tracks of Experimental genre to test folder...\n",
      "Folder 'test' created for genre 'Experimental'\n",
      "Distributing 400 tracks of Electronic genre to training folder...\n",
      "Folder 'train' created for genre 'Electronic'\n",
      "Distributing 50 tracks of Electronic genre to validation folder...\n",
      "Folder 'validation' created for genre 'Electronic'\n",
      "Distributing 50 tracks of Electronic genre to test folder...\n",
      "Folder 'test' created for genre 'Electronic'\n",
      "Distributing 400 tracks of Classical genre to training folder...\n",
      "Folder 'train' created for genre 'Classical'\n",
      "Distributing 50 tracks of Classical genre to validation folder...\n",
      "Folder 'validation' created for genre 'Classical'\n",
      "Distributing 50 tracks of Classical genre to test folder...\n",
      "Folder 'test' created for genre 'Classical'\n",
      "Distributing 400 tracks of Old-Time / Historic genre to training folder...\n",
      "Folder 'train' created for genre 'Old-Time / Historic'\n",
      "Distributing 50 tracks of Old-Time / Historic genre to validation folder...\n",
      "Folder 'validation' created for genre 'Old-Time / Historic'\n",
      "Distributing 50 tracks of Old-Time / Historic genre to test folder...\n",
      "Folder 'test' created for genre 'Old-Time / Historic'\n"
     ]
    }
   ],
   "source": [
    "chosen_genres = ['Hip-Hop', 'Pop', 'Rock', 'Folk', 'Experimental', 'Electronic', 'Classical', 'Old-Time / Historic' ]\n",
    "datap.data_reset(chosen_genres)\n",
    "train_perc = 80\n",
    "validation_perc = 10\n",
    "test_perc = 10\n",
    "datap.splitter(train_perc, validation_perc, test_perc ,chosen_genres, tracks)"
   ]
  },
  {
   "cell_type": "markdown",
   "id": "1b08095d",
   "metadata": {},
   "source": [
    "As we separated tracks into their corresponding folders, we are going to extract track names now and put them in their corresponding list for training, validation, and test datasets."
   ]
  },
  {
   "cell_type": "code",
   "execution_count": 4,
   "id": "33abcad6",
   "metadata": {
    "scrolled": true
   },
   "outputs": [
    {
     "name": "stdout",
     "output_type": "stream",
     "text": [
      "400 training tracks from genre Hip-Hop extracted.\n",
      "50 validation tracks from genre Hip-Hop extracted.\n",
      "50 test tracks from genre Hip-Hop extracted.\n",
      "400 training tracks from genre Pop extracted.\n",
      "50 validation tracks from genre Pop extracted.\n",
      "50 test tracks from genre Pop extracted.\n",
      "400 training tracks from genre Rock extracted.\n",
      "50 validation tracks from genre Rock extracted.\n",
      "50 test tracks from genre Rock extracted.\n",
      "400 training tracks from genre Folk extracted.\n",
      "50 validation tracks from genre Folk extracted.\n",
      "50 test tracks from genre Folk extracted.\n",
      "400 training tracks from genre Experimental extracted.\n",
      "50 validation tracks from genre Experimental extracted.\n",
      "50 test tracks from genre Experimental extracted.\n",
      "400 training tracks from genre Electronic extracted.\n",
      "50 validation tracks from genre Electronic extracted.\n",
      "50 test tracks from genre Electronic extracted.\n",
      "400 training tracks from genre Classical extracted.\n",
      "50 validation tracks from genre Classical extracted.\n",
      "50 test tracks from genre Classical extracted.\n",
      "400 training tracks from genre Old-Time / Historic extracted.\n",
      "50 validation tracks from genre Old-Time / Historic extracted.\n",
      "50 test tracks from genre Old-Time / Historic extracted.\n"
     ]
    }
   ],
   "source": [
    "train_tracks_list, valid_tracks_list, test_tracks_list = datap.track_extractor(chosen_genres)"
   ]
  },
  {
   "cell_type": "markdown",
   "id": "f7fcfb88",
   "metadata": {},
   "source": [
    "Here we are removing some of the tracks that were detected as corrupted so that in upcoming steps, feature extraction process will not have any problem. The tracks that were corrupted can be seen in corrupted_file_remover function in data_processing.py file."
   ]
  },
  {
   "cell_type": "code",
   "execution_count": 5,
   "id": "6eb37d19",
   "metadata": {},
   "outputs": [],
   "source": [
    "datap.corrupted_file_remover(train_tracks_list) \n",
    "datap.corrupted_file_remover(valid_tracks_list) \n",
    "datap.corrupted_file_remover(test_tracks_list) "
   ]
  },
  {
   "cell_type": "markdown",
   "id": "7d5bde47",
   "metadata": {},
   "source": [
    "Here is an example what the track lists contain for rock genre."
   ]
  },
  {
   "cell_type": "code",
   "execution_count": 6,
   "id": "0098f979",
   "metadata": {
    "scrolled": false
   },
   "outputs": [
    {
     "name": "stdout",
     "output_type": "stream",
     "text": [
      "rock tracks training\n",
      "['000136.mp3' '000181.mp3' '000182.mp3' '008208.mp3' '008209.mp3'\n",
      " '008210.mp3' '008211.mp3' '008212.mp3' '008213.mp3' '008214.mp3'\n",
      " '008215.mp3' '008216.mp3' '009985.mp3' '009986.mp3' '009987.mp3'\n",
      " '009988.mp3' '009989.mp3' '009990.mp3' '009991.mp3' '009992.mp3'\n",
      " '009993.mp3' '009994.mp3' '009995.mp3' '009996.mp3' '009997.mp3'\n",
      " '009998.mp3' '009999.mp3' '010000.mp3' '010001.mp3' '010002.mp3'\n",
      " '010003.mp3' '011205.mp3' '011304.mp3' '011305.mp3' '011306.mp3'\n",
      " '011437.mp3' '011458.mp3' '011459.mp3' '011541.mp3' '011936.mp3'\n",
      " '012308.mp3' '012594.mp3' '012595.mp3' '012596.mp3' '012597.mp3'\n",
      " '012598.mp3' '012599.mp3' '012600.mp3' '012601.mp3' '013595.mp3'\n",
      " '015304.mp3' '015307.mp3' '016288.mp3' '016289.mp3' '016296.mp3'\n",
      " '016342.mp3' '016343.mp3' '018787.mp3' '018788.mp3' '020010.mp3'\n",
      " '020011.mp3' '020012.mp3' '020013.mp3' '020014.mp3' '020051.mp3'\n",
      " '020231.mp3' '020443.mp3' '020444.mp3' '020445.mp3' '020446.mp3'\n",
      " '020447.mp3' '020448.mp3' '020961.mp3' '020962.mp3' '020963.mp3'\n",
      " '020964.mp3' '020965.mp3' '020966.mp3' '022334.mp3' '024101.mp3'\n",
      " '024654.mp3' '024655.mp3' '029396.mp3' '029397.mp3' '029398.mp3'\n",
      " '029401.mp3' '032677.mp3' '032678.mp3' '032679.mp3' '032680.mp3'\n",
      " '032681.mp3' '032682.mp3' '032683.mp3' '032684.mp3' '032685.mp3'\n",
      " '034348.mp3' '034352.mp3' '034360.mp3' '034984.mp3' '036373.mp3'\n",
      " '037074.mp3' '037076.mp3' '040351.mp3' '040352.mp3' '040353.mp3'\n",
      " '040354.mp3' '040962.mp3' '041809.mp3' '042475.mp3' '042476.mp3'\n",
      " '042477.mp3' '042478.mp3' '042479.mp3' '042480.mp3' '042481.mp3'\n",
      " '042482.mp3' '042483.mp3' '042484.mp3' '042485.mp3' '042486.mp3'\n",
      " '044285.mp3' '044916.mp3' '044917.mp3' '044918.mp3' '044919.mp3'\n",
      " '044920.mp3' '044921.mp3' '046087.mp3' '047768.mp3' '048064.mp3'\n",
      " '048067.mp3' '048069.mp3' '048070.mp3' '050056.mp3' '050409.mp3'\n",
      " '050410.mp3' '052696.mp3' '052697.mp3' '052912.mp3' '054870.mp3'\n",
      " '054871.mp3' '054872.mp3' '055901.mp3' '055902.mp3' '055905.mp3'\n",
      " '055906.mp3' '055907.mp3' '058093.mp3' '058417.mp3' '058419.mp3'\n",
      " '058423.mp3' '058425.mp3' '060968.mp3' '060970.mp3' '063402.mp3'\n",
      " '064905.mp3' '064911.mp3' '064912.mp3' '066200.mp3' '066201.mp3'\n",
      " '066202.mp3' '067121.mp3' '069925.mp3' '069926.mp3' '069928.mp3'\n",
      " '069929.mp3' '070190.mp3' '070191.mp3' '070193.mp3' '070194.mp3'\n",
      " '070198.mp3' '070199.mp3' '075228.mp3' '075229.mp3' '075230.mp3'\n",
      " '075231.mp3' '075232.mp3' '075233.mp3' '075234.mp3' '075235.mp3'\n",
      " '075236.mp3' '075237.mp3' '079915.mp3' '079916.mp3' '079918.mp3'\n",
      " '079919.mp3' '079920.mp3' '080634.mp3' '082526.mp3' '082527.mp3'\n",
      " '082528.mp3' '082529.mp3' '082530.mp3' '082531.mp3' '086261.mp3'\n",
      " '086262.mp3' '086263.mp3' '086792.mp3' '088935.mp3' '088936.mp3'\n",
      " '088937.mp3' '088938.mp3' '088939.mp3' '088940.mp3' '091708.mp3'\n",
      " '091709.mp3' '091710.mp3' '091711.mp3' '091712.mp3' '091840.mp3'\n",
      " '091841.mp3' '091842.mp3' '091843.mp3' '091844.mp3' '091845.mp3'\n",
      " '091846.mp3' '091847.mp3' '091848.mp3' '091849.mp3' '091850.mp3'\n",
      " '091851.mp3' '092867.mp3' '092868.mp3' '092869.mp3' '092871.mp3'\n",
      " '097288.mp3' '097291.mp3' '097292.mp3' '097294.mp3' '106562.mp3'\n",
      " '106563.mp3' '106564.mp3' '106566.mp3' '106567.mp3' '106568.mp3'\n",
      " '106569.mp3' '106570.mp3' '106571.mp3' '106892.mp3' '106893.mp3'\n",
      " '107356.mp3' '107362.mp3' '107364.mp3' '107381.mp3' '107382.mp3'\n",
      " '107805.mp3' '108187.mp3' '108188.mp3' '108192.mp3' '110429.mp3'\n",
      " '110430.mp3' '110434.mp3' '110980.mp3' '110981.mp3' '110982.mp3'\n",
      " '110983.mp3' '110985.mp3' '112523.mp3' '112524.mp3' '112525.mp3'\n",
      " '112526.mp3' '112527.mp3' '112528.mp3' '112529.mp3' '113511.mp3'\n",
      " '113512.mp3' '113513.mp3' '116295.mp3' '116297.mp3' '116298.mp3'\n",
      " '116299.mp3' '116300.mp3' '116301.mp3' '116302.mp3' '116303.mp3'\n",
      " '116304.mp3' '116541.mp3' '116543.mp3' '116544.mp3' '116545.mp3'\n",
      " '116546.mp3' '116547.mp3' '121806.mp3' '121811.mp3' '121812.mp3'\n",
      " '121813.mp3' '123101.mp3' '123102.mp3' '123103.mp3' '123104.mp3'\n",
      " '123105.mp3' '123106.mp3' '123660.mp3' '123661.mp3' '123662.mp3'\n",
      " '123750.mp3' '123751.mp3' '123756.mp3' '123757.mp3' '123758.mp3'\n",
      " '123759.mp3' '123837.mp3' '123839.mp3' '123840.mp3' '123841.mp3'\n",
      " '123842.mp3' '123843.mp3' '123844.mp3' '123845.mp3' '123846.mp3'\n",
      " '123847.mp3' '126294.mp3' '126295.mp3' '126296.mp3' '126297.mp3'\n",
      " '126299.mp3' '126300.mp3' '126301.mp3' '126967.mp3' '126968.mp3'\n",
      " '127332.mp3' '127333.mp3' '127334.mp3' '127335.mp3' '127337.mp3'\n",
      " '127338.mp3' '127339.mp3' '129341.mp3' '129342.mp3' '129344.mp3'\n",
      " '129345.mp3' '129346.mp3' '129399.mp3' '130221.mp3' '130223.mp3'\n",
      " '130225.mp3' '130242.mp3' '130243.mp3' '130244.mp3' '130854.mp3'\n",
      " '130855.mp3' '130856.mp3' '132693.mp3' '132695.mp3' '132696.mp3'\n",
      " '132697.mp3' '132698.mp3' '132699.mp3' '132700.mp3' '132701.mp3'\n",
      " '135210.mp3' '138203.mp3' '138204.mp3' '138205.mp3' '138206.mp3'\n",
      " '138207.mp3' '138208.mp3' '138209.mp3' '138210.mp3' '138211.mp3'\n",
      " '138348.mp3' '138349.mp3' '138350.mp3' '138351.mp3' '141849.mp3'\n",
      " '141853.mp3' '141854.mp3' '141856.mp3' '141857.mp3' '142122.mp3'\n",
      " '142123.mp3' '142125.mp3' '142126.mp3' '142127.mp3' '142128.mp3'\n",
      " '142291.mp3' '142292.mp3' '142294.mp3' '142296.mp3' '142297.mp3'\n",
      " '142298.mp3' '142299.mp3' '142300.mp3' '142302.mp3' '146040.mp3'\n",
      " '146041.mp3' '148493.mp3' '148495.mp3' '148618.mp3' '148621.mp3'\n",
      " '148623.mp3' '148625.mp3' '148626.mp3' '149147.mp3' '149148.mp3'\n",
      " '152624.mp3' '152625.mp3' '153365.mp3' '153420.mp3']\n",
      "rock tracks validation\n",
      "['009956.mp3' '009958.mp3' '009960.mp3' '009968.mp3' '017454.mp3'\n",
      " '017455.mp3' '017456.mp3' '017457.mp3' '022100.mp3' '022104.mp3'\n",
      " '022110.mp3' '022113.mp3' '022116.mp3' '030633.mp3' '030634.mp3'\n",
      " '031714.mp3' '033034.mp3' '033040.mp3' '044287.mp3' '090690.mp3'\n",
      " '090691.mp3' '090692.mp3' '090693.mp3' '090694.mp3' '090695.mp3'\n",
      " '099436.mp3' '099437.mp3' '099438.mp3' '099439.mp3' '099440.mp3'\n",
      " '099441.mp3' '099442.mp3' '107384.mp3' '107385.mp3' '107386.mp3'\n",
      " '107387.mp3' '107388.mp3' '107389.mp3' '107390.mp3' '107391.mp3'\n",
      " '125774.mp3' '125775.mp3' '125776.mp3' '125777.mp3' '125778.mp3'\n",
      " '125779.mp3' '146039.mp3' '146042.mp3' '149488.mp3' '149489.mp3']\n",
      "rock tracks test\n",
      "['009961.mp3' '009962.mp3' '009967.mp3' '010056.mp3' '010062.mp3'\n",
      " '010978.mp3' '010979.mp3' '010980.mp3' '022342.mp3' '031160.mp3'\n",
      " '037876.mp3' '064634.mp3' '064648.mp3' '064649.mp3' '071711.mp3'\n",
      " '076204.mp3' '076208.mp3' '080152.mp3' '087700.mp3' '087701.mp3'\n",
      " '087703.mp3' '087704.mp3' '091357.mp3' '091366.mp3' '104668.mp3'\n",
      " '104670.mp3' '104677.mp3' '108924.mp3' '108929.mp3' '117254.mp3'\n",
      " '117261.mp3' '122118.mp3' '123391.mp3' '123392.mp3' '123393.mp3'\n",
      " '126523.mp3' '126527.mp3' '126529.mp3' '127409.mp3' '130337.mp3'\n",
      " '131578.mp3' '131639.mp3' '132095.mp3' '145968.mp3' '148821.mp3'\n",
      " '150479.mp3' '150481.mp3' '150482.mp3' '153919.mp3']\n"
     ]
    }
   ],
   "source": [
    "print(\"rock tracks training\")\n",
    "print(train_tracks_list[2])\n",
    "print(\"rock tracks validation\")\n",
    "print(valid_tracks_list[2])\n",
    "print(\"rock tracks test\")\n",
    "print(test_tracks_list[2])"
   ]
  },
  {
   "cell_type": "markdown",
   "id": "e9c680e4",
   "metadata": {},
   "source": [
    "### Distribution of tracks randomly"
   ]
  },
  {
   "cell_type": "markdown",
   "id": "d3c4d785",
   "metadata": {},
   "source": [
    "Now we use the same approach for separating data into different parts but this time, we will not order according to artist name and in contrast, we will try to have the maximum number of common artists that we can get in training, validation, and test datasets."
   ]
  },
  {
   "cell_type": "code",
   "execution_count": 7,
   "id": "744bbc80",
   "metadata": {
    "scrolled": true
   },
   "outputs": [
    {
     "name": "stdout",
     "output_type": "stream",
     "text": [
      "Resetting training data of Hip-Hop genre\n",
      "Resetting validation data of Hip-Hop genre\n",
      "Resetting test data of Hip-Hop genre\n",
      "Resetting training data of Pop genre\n",
      "Resetting validation data of Pop genre\n",
      "Resetting test data of Pop genre\n",
      "Resetting training data of Rock genre\n",
      "Resetting validation data of Rock genre\n",
      "Resetting test data of Rock genre\n",
      "Resetting training data of Folk genre\n",
      "Resetting validation data of Folk genre\n",
      "Resetting test data of Folk genre\n",
      "Resetting training data of Experimental genre\n",
      "Resetting validation data of Experimental genre\n",
      "Resetting test data of Experimental genre\n",
      "Resetting training data of Electronic genre\n",
      "Resetting validation data of Electronic genre\n",
      "Resetting test data of Electronic genre\n",
      "Resetting training data of Classical genre\n",
      "Resetting validation data of Classical genre\n",
      "Resetting test data of Classical genre\n",
      "Resetting training data of Old-Time / Historic genre\n",
      "Resetting validation data of Old-Time / Historic genre\n",
      "Resetting test data of Old-Time / Historic genre\n",
      "Distributing 400 tracks of Hip-Hop genre to training folder...\n",
      "Folder 'train' created for genre 'Hip-Hop'\n",
      "Distributing 50 tracks of Hip-Hop genre to validation folder...\n",
      "Folder 'validation' created for genre 'Hip-Hop'\n",
      "Distributing 50 tracks of Hip-Hop genre to test folder...\n",
      "Folder 'test' created for genre 'Hip-Hop'\n",
      "Distributing 400 tracks of Pop genre to training folder...\n",
      "Folder 'train' created for genre 'Pop'\n",
      "Distributing 50 tracks of Pop genre to validation folder...\n",
      "Folder 'validation' created for genre 'Pop'\n",
      "Distributing 50 tracks of Pop genre to test folder...\n",
      "Folder 'test' created for genre 'Pop'\n",
      "Distributing 400 tracks of Rock genre to training folder...\n",
      "Folder 'train' created for genre 'Rock'\n",
      "Distributing 50 tracks of Rock genre to validation folder...\n",
      "Folder 'validation' created for genre 'Rock'\n",
      "Distributing 50 tracks of Rock genre to test folder...\n",
      "Folder 'test' created for genre 'Rock'\n",
      "Distributing 400 tracks of Folk genre to training folder...\n",
      "Folder 'train' created for genre 'Folk'\n",
      "Distributing 50 tracks of Folk genre to validation folder...\n",
      "Folder 'validation' created for genre 'Folk'\n",
      "Distributing 50 tracks of Folk genre to test folder...\n",
      "Folder 'test' created for genre 'Folk'\n",
      "Distributing 400 tracks of Experimental genre to training folder...\n",
      "Folder 'train' created for genre 'Experimental'\n",
      "Distributing 50 tracks of Experimental genre to validation folder...\n",
      "Folder 'validation' created for genre 'Experimental'\n",
      "Distributing 50 tracks of Experimental genre to test folder...\n",
      "Folder 'test' created for genre 'Experimental'\n",
      "Distributing 400 tracks of Electronic genre to training folder...\n",
      "Folder 'train' created for genre 'Electronic'\n",
      "Distributing 50 tracks of Electronic genre to validation folder...\n",
      "Folder 'validation' created for genre 'Electronic'\n",
      "Distributing 50 tracks of Electronic genre to test folder...\n",
      "Folder 'test' created for genre 'Electronic'\n",
      "Distributing 400 tracks of Classical genre to training folder...\n",
      "Folder 'train' created for genre 'Classical'\n",
      "Distributing 50 tracks of Classical genre to validation folder...\n",
      "Folder 'validation' created for genre 'Classical'\n",
      "Distributing 50 tracks of Classical genre to test folder...\n",
      "Folder 'test' created for genre 'Classical'\n",
      "Distributing 400 tracks of Old-Time / Historic genre to training folder...\n",
      "Folder 'train' created for genre 'Old-Time / Historic'\n",
      "Distributing 50 tracks of Old-Time / Historic genre to validation folder...\n",
      "Folder 'validation' created for genre 'Old-Time / Historic'\n",
      "Distributing 50 tracks of Old-Time / Historic genre to test folder...\n",
      "Folder 'test' created for genre 'Old-Time / Historic'\n"
     ]
    }
   ],
   "source": [
    "chosen_genres = ['Hip-Hop', 'Pop', 'Rock', 'Folk', 'Experimental', 'Electronic', 'Classical', 'Old-Time / Historic' ]\n",
    "datap.data_reset(chosen_genres)\n",
    "train_perc = 80\n",
    "validation_perc = 10\n",
    "test_perc = 10\n",
    "datap.splitter(train_perc, validation_perc, test_perc ,chosen_genres, tracks, common_artist = True)"
   ]
  },
  {
   "cell_type": "code",
   "execution_count": 8,
   "id": "89affb3c",
   "metadata": {
    "scrolled": true
   },
   "outputs": [
    {
     "name": "stdout",
     "output_type": "stream",
     "text": [
      "400 training tracks from genre Hip-Hop extracted.\n",
      "50 validation tracks from genre Hip-Hop extracted.\n",
      "50 test tracks from genre Hip-Hop extracted.\n",
      "400 training tracks from genre Pop extracted.\n",
      "50 validation tracks from genre Pop extracted.\n",
      "50 test tracks from genre Pop extracted.\n",
      "400 training tracks from genre Rock extracted.\n",
      "50 validation tracks from genre Rock extracted.\n",
      "50 test tracks from genre Rock extracted.\n",
      "400 training tracks from genre Folk extracted.\n",
      "50 validation tracks from genre Folk extracted.\n",
      "50 test tracks from genre Folk extracted.\n",
      "400 training tracks from genre Experimental extracted.\n",
      "50 validation tracks from genre Experimental extracted.\n",
      "50 test tracks from genre Experimental extracted.\n",
      "400 training tracks from genre Electronic extracted.\n",
      "50 validation tracks from genre Electronic extracted.\n",
      "50 test tracks from genre Electronic extracted.\n",
      "400 training tracks from genre Classical extracted.\n",
      "50 validation tracks from genre Classical extracted.\n",
      "50 test tracks from genre Classical extracted.\n",
      "400 training tracks from genre Old-Time / Historic extracted.\n",
      "50 validation tracks from genre Old-Time / Historic extracted.\n",
      "50 test tracks from genre Old-Time / Historic extracted.\n"
     ]
    }
   ],
   "source": [
    "train_tracks_list_rand, valid_tracks_list_rand, test_tracks_list_rand = datap.track_extractor(chosen_genres)"
   ]
  },
  {
   "cell_type": "code",
   "execution_count": 9,
   "id": "fd51be8f",
   "metadata": {},
   "outputs": [],
   "source": [
    "datap.corrupted_file_remover(train_tracks_list_rand) \n",
    "datap.corrupted_file_remover(valid_tracks_list_rand) \n",
    "datap.corrupted_file_remover(test_tracks_list_rand) "
   ]
  },
  {
   "cell_type": "code",
   "execution_count": 10,
   "id": "fc1159e1",
   "metadata": {
    "scrolled": true
   },
   "outputs": [
    {
     "name": "stdout",
     "output_type": "stream",
     "text": [
      "rock tracks training\n",
      "['000181.mp3' '000182.mp3' '008209.mp3' '008210.mp3' '008211.mp3'\n",
      " '008212.mp3' '008214.mp3' '008215.mp3' '009956.mp3' '009958.mp3'\n",
      " '009960.mp3' '009961.mp3' '009962.mp3' '009967.mp3' '009968.mp3'\n",
      " '009985.mp3' '009988.mp3' '009990.mp3' '009994.mp3' '009995.mp3'\n",
      " '009999.mp3' '010056.mp3' '010062.mp3' '010978.mp3' '010979.mp3'\n",
      " '010980.mp3' '011304.mp3' '011458.mp3' '011459.mp3' '011541.mp3'\n",
      " '011936.mp3' '012308.mp3' '012595.mp3' '012596.mp3' '012600.mp3'\n",
      " '013595.mp3' '015304.mp3' '016289.mp3' '016296.mp3' '016342.mp3'\n",
      " '016343.mp3' '017454.mp3' '017455.mp3' '017456.mp3' '017457.mp3'\n",
      " '018787.mp3' '018788.mp3' '020010.mp3' '020012.mp3' '020013.mp3'\n",
      " '020051.mp3' '020231.mp3' '020443.mp3' '020444.mp3' '020445.mp3'\n",
      " '020446.mp3' '020447.mp3' '020448.mp3' '020961.mp3' '020962.mp3'\n",
      " '020963.mp3' '020964.mp3' '020965.mp3' '020966.mp3' '022100.mp3'\n",
      " '022104.mp3' '022110.mp3' '022113.mp3' '022116.mp3' '022342.mp3'\n",
      " '024654.mp3' '024655.mp3' '029396.mp3' '029397.mp3' '029401.mp3'\n",
      " '030633.mp3' '030634.mp3' '031160.mp3' '031714.mp3' '032677.mp3'\n",
      " '032678.mp3' '032679.mp3' '032680.mp3' '032681.mp3' '032682.mp3'\n",
      " '032683.mp3' '032684.mp3' '032685.mp3' '033034.mp3' '033040.mp3'\n",
      " '034348.mp3' '034352.mp3' '034360.mp3' '034984.mp3' '036373.mp3'\n",
      " '037076.mp3' '037876.mp3' '040354.mp3' '040962.mp3' '042475.mp3'\n",
      " '042476.mp3' '042477.mp3' '042478.mp3' '042479.mp3' '042480.mp3'\n",
      " '042481.mp3' '042482.mp3' '042483.mp3' '042484.mp3' '042485.mp3'\n",
      " '042486.mp3' '044287.mp3' '044916.mp3' '044917.mp3' '044918.mp3'\n",
      " '044919.mp3' '044920.mp3' '044921.mp3' '047768.mp3' '048064.mp3'\n",
      " '048067.mp3' '048069.mp3' '048070.mp3' '050056.mp3' '050409.mp3'\n",
      " '050410.mp3' '052696.mp3' '052912.mp3' '054870.mp3' '054871.mp3'\n",
      " '054872.mp3' '055901.mp3' '055902.mp3' '055905.mp3' '055906.mp3'\n",
      " '058093.mp3' '058417.mp3' '058419.mp3' '058423.mp3' '058425.mp3'\n",
      " '060968.mp3' '060970.mp3' '063402.mp3' '064634.mp3' '064648.mp3'\n",
      " '064649.mp3' '064905.mp3' '064911.mp3' '064912.mp3' '066200.mp3'\n",
      " '066201.mp3' '066202.mp3' '069926.mp3' '069928.mp3' '069929.mp3'\n",
      " '070190.mp3' '070191.mp3' '070193.mp3' '070194.mp3' '070198.mp3'\n",
      " '070199.mp3' '071711.mp3' '075228.mp3' '075229.mp3' '075230.mp3'\n",
      " '075233.mp3' '075234.mp3' '075235.mp3' '076204.mp3' '076208.mp3'\n",
      " '079918.mp3' '080152.mp3' '080634.mp3' '082526.mp3' '082527.mp3'\n",
      " '082529.mp3' '082530.mp3' '086261.mp3' '086262.mp3' '086263.mp3'\n",
      " '087700.mp3' '087701.mp3' '087703.mp3' '087704.mp3' '088935.mp3'\n",
      " '088936.mp3' '088937.mp3' '088938.mp3' '088939.mp3' '088940.mp3'\n",
      " '090690.mp3' '090691.mp3' '090692.mp3' '090693.mp3' '090694.mp3'\n",
      " '090695.mp3' '091357.mp3' '091366.mp3' '091708.mp3' '091709.mp3'\n",
      " '091710.mp3' '091711.mp3' '091712.mp3' '091840.mp3' '091841.mp3'\n",
      " '091842.mp3' '091843.mp3' '091844.mp3' '091845.mp3' '091846.mp3'\n",
      " '091847.mp3' '091848.mp3' '091849.mp3' '091850.mp3' '091851.mp3'\n",
      " '092867.mp3' '092868.mp3' '092869.mp3' '092871.mp3' '097291.mp3'\n",
      " '099436.mp3' '099437.mp3' '099438.mp3' '099439.mp3' '099440.mp3'\n",
      " '099441.mp3' '099442.mp3' '104668.mp3' '104670.mp3' '104677.mp3'\n",
      " '106562.mp3' '106563.mp3' '106564.mp3' '106566.mp3' '106567.mp3'\n",
      " '106568.mp3' '106569.mp3' '106570.mp3' '106571.mp3' '106892.mp3'\n",
      " '106893.mp3' '107362.mp3' '107364.mp3' '107381.mp3' '107382.mp3'\n",
      " '107384.mp3' '107385.mp3' '107386.mp3' '107387.mp3' '107388.mp3'\n",
      " '107389.mp3' '107390.mp3' '107391.mp3' '107805.mp3' '108188.mp3'\n",
      " '108192.mp3' '108924.mp3' '108929.mp3' '110434.mp3' '110980.mp3'\n",
      " '110981.mp3' '110982.mp3' '110983.mp3' '110985.mp3' '112523.mp3'\n",
      " '112524.mp3' '112525.mp3' '112526.mp3' '112528.mp3' '113512.mp3'\n",
      " '116295.mp3' '116297.mp3' '116298.mp3' '116299.mp3' '116300.mp3'\n",
      " '116301.mp3' '116302.mp3' '116303.mp3' '116304.mp3' '116541.mp3'\n",
      " '116543.mp3' '116544.mp3' '116545.mp3' '116546.mp3' '116547.mp3'\n",
      " '117254.mp3' '117261.mp3' '121806.mp3' '121811.mp3' '121812.mp3'\n",
      " '121813.mp3' '122118.mp3' '123101.mp3' '123103.mp3' '123105.mp3'\n",
      " '123106.mp3' '123391.mp3' '123392.mp3' '123393.mp3' '123660.mp3'\n",
      " '123661.mp3' '123662.mp3' '123750.mp3' '123751.mp3' '123756.mp3'\n",
      " '123757.mp3' '123758.mp3' '123837.mp3' '123840.mp3' '123841.mp3'\n",
      " '123844.mp3' '123845.mp3' '125774.mp3' '125775.mp3' '125776.mp3'\n",
      " '125777.mp3' '125778.mp3' '125779.mp3' '126294.mp3' '126295.mp3'\n",
      " '126296.mp3' '126297.mp3' '126299.mp3' '126300.mp3' '126301.mp3'\n",
      " '126523.mp3' '126527.mp3' '126529.mp3' '127332.mp3' '127333.mp3'\n",
      " '127334.mp3' '127335.mp3' '127337.mp3' '127338.mp3' '127339.mp3'\n",
      " '127409.mp3' '129342.mp3' '129345.mp3' '129399.mp3' '130223.mp3'\n",
      " '130225.mp3' '130243.mp3' '130244.mp3' '130337.mp3' '130854.mp3'\n",
      " '130855.mp3' '130856.mp3' '131578.mp3' '131639.mp3' '132095.mp3'\n",
      " '132693.mp3' '132695.mp3' '132696.mp3' '132697.mp3' '132698.mp3'\n",
      " '132699.mp3' '132700.mp3' '132701.mp3' '138203.mp3' '138204.mp3'\n",
      " '138207.mp3' '138348.mp3' '138349.mp3' '138350.mp3' '138351.mp3'\n",
      " '141856.mp3' '141857.mp3' '142123.mp3' '142128.mp3' '142291.mp3'\n",
      " '142292.mp3' '142294.mp3' '142296.mp3' '142297.mp3' '142298.mp3'\n",
      " '142299.mp3' '142300.mp3' '142302.mp3' '145968.mp3' '146039.mp3'\n",
      " '146040.mp3' '146041.mp3' '146042.mp3' '148495.mp3' '148625.mp3'\n",
      " '148626.mp3' '148821.mp3' '149147.mp3' '149148.mp3' '149488.mp3'\n",
      " '149489.mp3' '150479.mp3' '150481.mp3' '150482.mp3' '152624.mp3'\n",
      " '153365.mp3' '153420.mp3' '153919.mp3']\n",
      "rock tracks validation\n",
      "['009986.mp3' '009987.mp3' '009989.mp3' '009991.mp3' '009992.mp3'\n",
      " '009996.mp3' '009998.mp3' '010000.mp3' '010002.mp3' '010003.mp3'\n",
      " '011205.mp3' '011305.mp3' '011437.mp3' '012594.mp3' '012598.mp3'\n",
      " '012599.mp3' '012601.mp3' '015307.mp3' '022334.mp3' '037074.mp3'\n",
      " '040351.mp3' '040353.mp3' '041809.mp3' '044285.mp3' '052697.mp3'\n",
      " '079915.mp3' '079916.mp3' '079920.mp3' '086792.mp3' '097288.mp3'\n",
      " '097292.mp3' '110429.mp3' '113511.mp3' '113513.mp3' '126968.mp3'\n",
      " '129341.mp3' '129346.mp3' '138205.mp3' '138208.mp3' '138209.mp3'\n",
      " '138210.mp3' '138211.mp3' '141853.mp3' '141854.mp3' '142122.mp3'\n",
      " '142125.mp3' '142127.mp3' '148493.mp3' '148618.mp3' '148623.mp3']\n",
      "rock tracks test\n",
      "['000136.mp3' '008208.mp3' '008213.mp3' '008216.mp3' '009993.mp3'\n",
      " '009997.mp3' '010001.mp3' '011306.mp3' '012597.mp3' '016288.mp3'\n",
      " '020011.mp3' '020014.mp3' '024101.mp3' '029398.mp3' '040352.mp3'\n",
      " '046087.mp3' '055907.mp3' '067121.mp3' '069925.mp3' '075231.mp3'\n",
      " '075232.mp3' '075236.mp3' '075237.mp3' '079919.mp3' '082528.mp3'\n",
      " '082531.mp3' '097294.mp3' '107356.mp3' '108187.mp3' '110430.mp3'\n",
      " '112527.mp3' '112529.mp3' '123102.mp3' '123104.mp3' '123759.mp3'\n",
      " '123839.mp3' '123842.mp3' '123843.mp3' '123846.mp3' '123847.mp3'\n",
      " '126967.mp3' '129344.mp3' '130221.mp3' '130242.mp3' '135210.mp3'\n",
      " '138206.mp3' '141849.mp3' '142126.mp3' '148621.mp3' '152625.mp3']\n"
     ]
    }
   ],
   "source": [
    "print(\"rock tracks training\")\n",
    "print(train_tracks_list_rand[2])\n",
    "print(\"rock tracks validation\")\n",
    "print(valid_tracks_list_rand[2])\n",
    "print(\"rock tracks test\")\n",
    "print(test_tracks_list_rand[2])"
   ]
  },
  {
   "cell_type": "markdown",
   "id": "a3cbc9ce",
   "metadata": {},
   "source": [
    "## Common Artists Check"
   ]
  },
  {
   "cell_type": "markdown",
   "id": "b1f441c4",
   "metadata": {},
   "source": [
    "### Tracks ordered with artist name"
   ]
  },
  {
   "cell_type": "markdown",
   "id": "cab974ff",
   "metadata": {},
   "source": [
    "Here we are comparing each genres' training dataset with their validation and test dataset. As it can be seen, the number of common artists are 1 or 0."
   ]
  },
  {
   "cell_type": "code",
   "execution_count": 16,
   "id": "6ad51432",
   "metadata": {},
   "outputs": [
    {
     "name": "stdout",
     "output_type": "stream",
     "text": [
      "XXX TRAINING VS VALIDATION FOR GENRE Hip-Hop XXX\n",
      "+++ The first dataset contains 37 artists \n",
      "+++ The second dataset contains 3 artists \n",
      "+++ The datasets have 1 common artists\n",
      "YYY TRAINING VS TEST FOR GENRE Hip-Hop YYY\n",
      "+++ The first dataset contains 37 artists \n",
      "+++ The second dataset contains 5 artists \n",
      "+++ The datasets have 0 common artists\n",
      "XXX TRAINING VS VALIDATION FOR GENRE Pop XXX\n",
      "+++ The first dataset contains 107 artists \n",
      "+++ The second dataset contains 18 artists \n",
      "+++ The datasets have 1 common artists\n",
      "YYY TRAINING VS TEST FOR GENRE Pop YYY\n",
      "+++ The first dataset contains 107 artists \n",
      "+++ The second dataset contains 17 artists \n",
      "+++ The datasets have 0 common artists\n",
      "XXX TRAINING VS VALIDATION FOR GENRE Rock XXX\n",
      "+++ The first dataset contains 82 artists \n",
      "+++ The second dataset contains 11 artists \n",
      "+++ The datasets have 1 common artists\n",
      "YYY TRAINING VS TEST FOR GENRE Rock YYY\n",
      "+++ The first dataset contains 82 artists \n",
      "+++ The second dataset contains 18 artists \n",
      "+++ The datasets have 0 common artists\n",
      "XXX TRAINING VS VALIDATION FOR GENRE Folk XXX\n",
      "+++ The first dataset contains 61 artists \n",
      "+++ The second dataset contains 6 artists \n",
      "+++ The datasets have 1 common artists\n",
      "YYY TRAINING VS TEST FOR GENRE Folk YYY\n",
      "+++ The first dataset contains 61 artists \n",
      "+++ The second dataset contains 12 artists \n",
      "+++ The datasets have 0 common artists\n",
      "XXX TRAINING VS VALIDATION FOR GENRE Experimental XXX\n",
      "+++ The first dataset contains 163 artists \n",
      "+++ The second dataset contains 26 artists \n",
      "+++ The datasets have 1 common artists\n",
      "YYY TRAINING VS TEST FOR GENRE Experimental YYY\n",
      "+++ The first dataset contains 163 artists \n",
      "+++ The second dataset contains 18 artists \n",
      "+++ The datasets have 0 common artists\n",
      "XXX TRAINING VS VALIDATION FOR GENRE Electronic XXX\n",
      "+++ The first dataset contains 82 artists \n",
      "+++ The second dataset contains 4 artists \n",
      "+++ The datasets have 1 common artists\n",
      "YYY TRAINING VS TEST FOR GENRE Electronic YYY\n",
      "+++ The first dataset contains 82 artists \n",
      "+++ The second dataset contains 12 artists \n",
      "+++ The datasets have 0 common artists\n",
      "XXX TRAINING VS VALIDATION FOR GENRE Classical XXX\n",
      "+++ The first dataset contains 61 artists \n",
      "+++ The second dataset contains 6 artists \n",
      "+++ The datasets have 1 common artists\n",
      "YYY TRAINING VS TEST FOR GENRE Classical YYY\n",
      "+++ The first dataset contains 61 artists \n",
      "+++ The second dataset contains 18 artists \n",
      "+++ The datasets have 0 common artists\n",
      "XXX TRAINING VS VALIDATION FOR GENRE Old-Time / Historic XXX\n",
      "+++ The first dataset contains 261 artists \n",
      "+++ The second dataset contains 34 artists \n",
      "+++ The datasets have 1 common artists\n",
      "YYY TRAINING VS TEST FOR GENRE Old-Time / Historic YYY\n",
      "+++ The first dataset contains 261 artists \n",
      "+++ The second dataset contains 44 artists \n",
      "+++ The datasets have 0 common artists\n"
     ]
    }
   ],
   "source": [
    "for i,genre in enumerate(chosen_genres):\n",
    "    print(\"XXX TRAINING VS VALIDATION FOR GENRE \" + genre + \" XXX\")\n",
    "    datap.common_artists(train_tracks_list[i],valid_tracks_list[i],tracks)\n",
    "    print(\"YYY TRAINING VS TEST FOR GENRE \" + genre + \" YYY\")\n",
    "    datap.common_artists(train_tracks_list[i],test_tracks_list[i],tracks)\n"
   ]
  },
  {
   "cell_type": "markdown",
   "id": "b2fa6ab4",
   "metadata": {},
   "source": [
    "### Tracks chosen Randomly"
   ]
  },
  {
   "cell_type": "markdown",
   "id": "5e430916",
   "metadata": {},
   "source": [
    "And here we are doing the same comparison with distribution where we tried to maximize common number of artists. As we can see, there are many common artists between training and validation,test datasets now."
   ]
  },
  {
   "cell_type": "code",
   "execution_count": 17,
   "id": "08d6fb73",
   "metadata": {},
   "outputs": [
    {
     "name": "stdout",
     "output_type": "stream",
     "text": [
      "XXX TRAINING VS VALIDATION FOR GENRE Hip-Hop XXX\n",
      "+++ The first dataset contains 43 artists \n",
      "+++ The second dataset contains 8 artists \n",
      "+++ The datasets have 8 common artists\n",
      "YYY TRAINING VS TEST FOR GENRE Hip-Hop YYY\n",
      "+++ The first dataset contains 43 artists \n",
      "+++ The second dataset contains 14 artists \n",
      "+++ The datasets have 14 common artists\n",
      "XXX TRAINING VS VALIDATION FOR GENRE Pop XXX\n",
      "+++ The first dataset contains 121 artists \n",
      "+++ The second dataset contains 21 artists \n",
      "+++ The datasets have 13 common artists\n",
      "YYY TRAINING VS TEST FOR GENRE Pop YYY\n",
      "+++ The first dataset contains 121 artists \n",
      "+++ The second dataset contains 36 artists \n",
      "+++ The datasets have 24 common artists\n",
      "XXX TRAINING VS VALIDATION FOR GENRE Rock XXX\n",
      "+++ The first dataset contains 96 artists \n",
      "+++ The second dataset contains 23 artists \n",
      "+++ The datasets have 16 common artists\n",
      "YYY TRAINING VS TEST FOR GENRE Rock YYY\n",
      "+++ The first dataset contains 96 artists \n",
      "+++ The second dataset contains 35 artists \n",
      "+++ The datasets have 26 common artists\n",
      "XXX TRAINING VS VALIDATION FOR GENRE Folk XXX\n",
      "+++ The first dataset contains 72 artists \n",
      "+++ The second dataset contains 22 artists \n",
      "+++ The datasets have 17 common artists\n",
      "YYY TRAINING VS TEST FOR GENRE Folk YYY\n",
      "+++ The first dataset contains 72 artists \n",
      "+++ The second dataset contains 15 artists \n",
      "+++ The datasets have 13 common artists\n",
      "XXX TRAINING VS VALIDATION FOR GENRE Experimental XXX\n",
      "+++ The first dataset contains 183 artists \n",
      "+++ The second dataset contains 31 artists \n",
      "+++ The datasets have 17 common artists\n",
      "YYY TRAINING VS TEST FOR GENRE Experimental YYY\n",
      "+++ The first dataset contains 183 artists \n",
      "+++ The second dataset contains 41 artists \n",
      "+++ The datasets have 29 common artists\n",
      "XXX TRAINING VS VALIDATION FOR GENRE Electronic XXX\n",
      "+++ The first dataset contains 90 artists \n",
      "+++ The second dataset contains 10 artists \n",
      "+++ The datasets have 9 common artists\n",
      "YYY TRAINING VS TEST FOR GENRE Electronic YYY\n",
      "+++ The first dataset contains 90 artists \n",
      "+++ The second dataset contains 23 artists \n",
      "+++ The datasets have 17 common artists\n",
      "XXX TRAINING VS VALIDATION FOR GENRE Classical XXX\n",
      "+++ The first dataset contains 73 artists \n",
      "+++ The second dataset contains 15 artists \n",
      "+++ The datasets have 9 common artists\n",
      "YYY TRAINING VS TEST FOR GENRE Classical YYY\n",
      "+++ The first dataset contains 73 artists \n",
      "+++ The second dataset contains 16 artists \n",
      "+++ The datasets have 11 common artists\n",
      "XXX TRAINING VS VALIDATION FOR GENRE Old-Time / Historic XXX\n",
      "+++ The first dataset contains 300 artists \n",
      "+++ The second dataset contains 28 artists \n",
      "+++ The datasets have 14 common artists\n",
      "YYY TRAINING VS TEST FOR GENRE Old-Time / Historic YYY\n",
      "+++ The first dataset contains 300 artists \n",
      "+++ The second dataset contains 43 artists \n",
      "+++ The datasets have 20 common artists\n"
     ]
    }
   ],
   "source": [
    "for i,genre in enumerate(chosen_genres):\n",
    "    print(\"XXX TRAINING VS VALIDATION FOR GENRE \" + genre + \" XXX\")\n",
    "    datap.common_artists(train_tracks_list_rand[i],valid_tracks_list_rand[i],tracks)\n",
    "    print(\"YYY TRAINING VS TEST FOR GENRE \" + genre + \" YYY\")\n",
    "    datap.common_artists(train_tracks_list_rand[i],test_tracks_list_rand[i],tracks)"
   ]
  },
  {
   "cell_type": "markdown",
   "id": "40259dad",
   "metadata": {},
   "source": [
    "## Feature Extractions"
   ]
  },
  {
   "cell_type": "markdown",
   "id": "3c20041b",
   "metadata": {},
   "source": [
    "Since our tracks are ready now, we can go on with extraction features from each genre's track list. While doing that, we used 46ms analysis windows and 23ms hop size with the usage of hann window."
   ]
  },
  {
   "cell_type": "markdown",
   "id": "c9283fb4",
   "metadata": {},
   "source": [
    "### Feature extractions of artist ordered tracks"
   ]
  },
  {
   "cell_type": "code",
   "execution_count": null,
   "id": "2910b48a",
   "metadata": {},
   "outputs": [],
   "source": [
    "train_genre_feature_list, train_genre_song_length_list, train_frame_labels, train_song_labels = genre_feature_extractor(\n",
    "                                chosen_genres,train_tracks_list, \n",
    "                                \"train\", a_win_ms = 46, h_len_ms = 23, \n",
    "                                window_type = \"hann\")\n",
    "\n",
    "valid_genre_feature_list, valid_genre_song_length_list, valid_frame_labels, valid_song_labels = genre_feature_extractor(\n",
    "                                chosen_genres,valid_tracks_list, \n",
    "                                \"validation\", a_win_ms = 46, h_len_ms = 23, \n",
    "                                window_type = \"hann\")\n",
    "\n",
    "test_genre_feature_list, test_genre_song_length_list, test_frame_labels, test_song_labels = genre_feature_extractor(\n",
    "                                chosen_genres,test_tracks_list, \n",
    "                                \"test\", a_win_ms = 46, h_len_ms = 23, \n",
    "                                window_type = \"hann\")"
   ]
  },
  {
   "cell_type": "markdown",
   "id": "5bc23638",
   "metadata": {},
   "source": [
    "Since we already saved the features for the artist name ordered track distribution, we are going to load them directly from our features folder."
   ]
  },
  {
   "cell_type": "code",
   "execution_count": 18,
   "id": "b1b26ba1",
   "metadata": {},
   "outputs": [],
   "source": [
    "train_genre_feature_list, train_genre_song_length_list,train_frame_labels, train_song_labels =fext.feature_loader(\"train_genre_feature_list\"\n",
    "                                                            ,\"train_genre_song_length_list\", \n",
    "                                                            \"train_frame_labels\", \"train_song_labels\" )\n",
    "valid_genre_feature_list, valid_genre_song_length_list,valid_frame_labels, valid_song_labels =fext.feature_loader(\"valid_genre_feature_list\",\"valid_genre_song_length_list\", \n",
    "                                                            \"valid_frame_labels\", \"valid_song_labels\" )\n",
    "test_genre_feature_list, test_genre_song_length_list,test_frame_labels, test_song_labels =fext.feature_loader(\"test_genre_feature_list\",\"test_genre_song_length_list\", \n",
    "                                                            \"test_frame_labels\", \"test_song_labels\" )"
   ]
  },
  {
   "cell_type": "markdown",
   "id": "5e4e5e6f",
   "metadata": {},
   "source": [
    "Here we are concetaneting features of all genres into one vector such that they can be ready for training in classifiers."
   ]
  },
  {
   "cell_type": "code",
   "execution_count": 20,
   "id": "e1cb4821",
   "metadata": {},
   "outputs": [],
   "source": [
    "X_train = fext.feature_label_con(train_genre_feature_list)\n",
    "X_train = X_train.T\n",
    "y_train = fext.feature_label_con(train_frame_labels, False)\n",
    "\n",
    "X_valid = fext.feature_label_con(valid_genre_feature_list)\n",
    "X_valid = X_valid.T\n",
    "y_valid = fext.feature_label_con(valid_frame_labels, False)\n",
    "\n",
    "X_test = fext.feature_label_con(test_genre_feature_list)\n",
    "X_test = X_test.T\n",
    "y_test = fext.feature_label_con(test_frame_labels, False)"
   ]
  },
  {
   "cell_type": "markdown",
   "id": "45c85781",
   "metadata": {},
   "source": [
    "### Feature extractions of randomly chosen tracks"
   ]
  },
  {
   "cell_type": "markdown",
   "id": "6c0e3913",
   "metadata": {},
   "source": [
    "For the common artist maximized case, we are extracting the features from scratch and the process of feature extraction can be seen as in the following part:"
   ]
  },
  {
   "cell_type": "code",
   "execution_count": 14,
   "id": "ffd1c1a2",
   "metadata": {
    "scrolled": true
   },
   "outputs": [
    {
     "name": "stdout",
     "output_type": "stream",
     "text": [
      "Label of Hip-Hop is 0\n",
      "Label of Pop is 1\n",
      "Label of Rock is 2\n",
      "Label of Folk is 3\n",
      "Label of Experimental is 4\n",
      "Label of Electronic is 5\n",
      "Label of Classical is 6\n",
      "Label of Old-Time / Historic is 7\n",
      "Features of 50 songs are extracted in Hip-Hop genre\n",
      "Features of 100 songs are extracted in Hip-Hop genre\n",
      "Features of 150 songs are extracted in Hip-Hop genre\n",
      "Features of 200 songs are extracted in Hip-Hop genre\n",
      "Features of 250 songs are extracted in Hip-Hop genre\n",
      "Features of 300 songs are extracted in Hip-Hop genre\n",
      "Features of 350 songs are extracted in Hip-Hop genre\n",
      "Features of 400 songs are extracted in Hip-Hop genre\n",
      "Features of 50 songs are extracted in Pop genre\n",
      "Features of 100 songs are extracted in Pop genre\n",
      "Features of 150 songs are extracted in Pop genre\n",
      "Features of 200 songs are extracted in Pop genre\n",
      "Features of 250 songs are extracted in Pop genre\n",
      "Features of 300 songs are extracted in Pop genre\n",
      "Features of 350 songs are extracted in Pop genre\n",
      "Features of 400 songs are extracted in Pop genre\n",
      "Features of 50 songs are extracted in Rock genre\n",
      "Features of 100 songs are extracted in Rock genre\n",
      "Features of 150 songs are extracted in Rock genre\n",
      "Features of 200 songs are extracted in Rock genre\n",
      "Features of 250 songs are extracted in Rock genre\n",
      "Features of 300 songs are extracted in Rock genre\n",
      "Features of 350 songs are extracted in Rock genre\n",
      "Features of 50 songs are extracted in Folk genre\n",
      "Features of 100 songs are extracted in Folk genre\n",
      "Features of 150 songs are extracted in Folk genre\n",
      "Features of 200 songs are extracted in Folk genre\n",
      "Features of 250 songs are extracted in Folk genre\n",
      "Features of 300 songs are extracted in Folk genre\n",
      "Features of 350 songs are extracted in Folk genre\n",
      "Features of 400 songs are extracted in Folk genre\n",
      "Features of 50 songs are extracted in Experimental genre\n",
      "Features of 100 songs are extracted in Experimental genre\n",
      "Features of 150 songs are extracted in Experimental genre\n",
      "Features of 200 songs are extracted in Experimental genre\n",
      "Features of 250 songs are extracted in Experimental genre\n",
      "Features of 300 songs are extracted in Experimental genre\n",
      "Features of 350 songs are extracted in Experimental genre\n",
      "Features of 50 songs are extracted in Electronic genre\n",
      "Features of 100 songs are extracted in Electronic genre\n",
      "Features of 150 songs are extracted in Electronic genre\n",
      "Features of 200 songs are extracted in Electronic genre\n",
      "Features of 250 songs are extracted in Electronic genre\n",
      "Features of 300 songs are extracted in Electronic genre\n",
      "Features of 350 songs are extracted in Electronic genre\n",
      "Features of 400 songs are extracted in Electronic genre\n",
      "Features of 50 songs are extracted in Classical genre\n",
      "Features of 100 songs are extracted in Classical genre\n",
      "Features of 150 songs are extracted in Classical genre\n",
      "Features of 200 songs are extracted in Classical genre\n",
      "Features of 250 songs are extracted in Classical genre\n",
      "Features of 300 songs are extracted in Classical genre\n",
      "Features of 350 songs are extracted in Classical genre\n",
      "Features of 400 songs are extracted in Classical genre\n",
      "Features of 50 songs are extracted in Old-Time / Historic genre\n",
      "Features of 100 songs are extracted in Old-Time / Historic genre\n",
      "Features of 150 songs are extracted in Old-Time / Historic genre\n",
      "Features of 200 songs are extracted in Old-Time / Historic genre\n",
      "Features of 250 songs are extracted in Old-Time / Historic genre\n",
      "Features of 300 songs are extracted in Old-Time / Historic genre\n",
      "Features of 350 songs are extracted in Old-Time / Historic genre\n",
      "Features of 400 songs are extracted in Old-Time / Historic genre\n",
      "Label of Hip-Hop is 0\n",
      "Label of Pop is 1\n",
      "Label of Rock is 2\n",
      "Label of Folk is 3\n",
      "Label of Experimental is 4\n",
      "Label of Electronic is 5\n",
      "Label of Classical is 6\n",
      "Label of Old-Time / Historic is 7\n",
      "Features of 50 songs are extracted in Hip-Hop genre\n",
      "Features of 50 songs are extracted in Pop genre\n",
      "Features of 50 songs are extracted in Rock genre\n",
      "Features of 50 songs are extracted in Folk genre\n",
      "Features of 50 songs are extracted in Experimental genre\n",
      "Features of 50 songs are extracted in Electronic genre\n",
      "Features of 50 songs are extracted in Classical genre\n",
      "Features of 50 songs are extracted in Old-Time / Historic genre\n",
      "Label of Hip-Hop is 0\n",
      "Label of Pop is 1\n",
      "Label of Rock is 2\n",
      "Label of Folk is 3\n",
      "Label of Experimental is 4\n",
      "Label of Electronic is 5\n",
      "Label of Classical is 6\n",
      "Label of Old-Time / Historic is 7\n",
      "Features of 50 songs are extracted in Hip-Hop genre\n",
      "Features of 50 songs are extracted in Pop genre\n",
      "Features of 50 songs are extracted in Rock genre\n",
      "Features of 50 songs are extracted in Folk genre\n",
      "Features of 50 songs are extracted in Experimental genre\n",
      "Features of 50 songs are extracted in Electronic genre\n",
      "Features of 50 songs are extracted in Classical genre\n",
      "Features of 50 songs are extracted in Old-Time / Historic genre\n"
     ]
    }
   ],
   "source": [
    "train_genre_feature_list_rand, train_genre_song_length_list_rand, train_frame_labels_rand, train_song_labels_rand = fext.genre_feature_extractor(\n",
    "                                chosen_genres,train_tracks_list_rand, \n",
    "                                \"train\", a_win_ms = 46, h_len_ms = 23, \n",
    "                                window_type = \"hann\")\n",
    "\n",
    "valid_genre_feature_list_rand, valid_genre_song_length_list_rand, valid_frame_labels_rand, valid_song_labels_rand = fext.genre_feature_extractor(\n",
    "                                chosen_genres,valid_tracks_list_rand, \n",
    "                                \"validation\", a_win_ms = 46, h_len_ms = 23, \n",
    "                                window_type = \"hann\")\n",
    "\n",
    "test_genre_feature_list_rand, test_genre_song_length_list_rand, test_frame_labels_rand, test_song_labels_rand = fext.genre_feature_extractor(\n",
    "                                chosen_genres,test_tracks_list_rand, \n",
    "                                \"test\", a_win_ms = 46, h_len_ms = 23, \n",
    "                                window_type = \"hann\")"
   ]
  },
  {
   "cell_type": "markdown",
   "id": "ad22e218",
   "metadata": {},
   "source": [
    "To make it easy to use features in future without calculating them again and again, we can save our features to features folder."
   ]
  },
  {
   "cell_type": "code",
   "execution_count": 22,
   "id": "c4f1d968",
   "metadata": {},
   "outputs": [],
   "source": [
    "fext.feature_saver(train_genre_feature_list_rand, \"train_genre_feature_list_rand\",train_genre_song_length_list_rand, \"train_genre_song_length_list_rand\"\n",
    "                  ,train_frame_labels_rand, \"train_frame_labels_rand\", train_song_labels_rand, \"train_song_labels_rand\")\n",
    "fext.feature_saver(valid_genre_feature_list_rand, \"valid_genre_feature_list_rand\",valid_genre_song_length_list_rand, \"valid_genre_song_length_list_rand\"\n",
    "                  ,valid_frame_labels_rand, \"valid_frame_labels_rand\", valid_song_labels_rand, \"valid_song_labels_rand\")\n",
    "fext.feature_saver(test_genre_feature_list_rand, \"test_genre_feature_list_rand\",test_genre_song_length_list_rand, \"test_genre_song_length_list_rand\"\n",
    "                  ,test_frame_labels_rand, \"test_frame_labels_rand\", test_song_labels_rand, \"test_song_labels_rand\")"
   ]
  },
  {
   "cell_type": "code",
   "execution_count": 23,
   "id": "10f893f7",
   "metadata": {},
   "outputs": [],
   "source": [
    "X_train_rand = fext.feature_label_con(train_genre_feature_list_rand)\n",
    "X_train_rand = X_train_rand.T\n",
    "y_train_rand = fext.feature_label_con(train_frame_labels_rand, False)\n",
    "\n",
    "X_valid_rand = fext.feature_label_con(valid_genre_feature_list_rand)\n",
    "X_valid_rand = X_valid_rand.T\n",
    "y_valid_rand = fext.feature_label_con(valid_frame_labels_rand, False)\n",
    "\n",
    "X_test_rand = fext.feature_label_con(test_genre_feature_list_rand)\n",
    "X_test_rand = X_test_rand.T\n",
    "y_test_rand = fext.feature_label_con(test_frame_labels_rand, False)"
   ]
  },
  {
   "cell_type": "markdown",
   "id": "6410ef37",
   "metadata": {},
   "source": [
    "## Classifications!"
   ]
  },
  {
   "cell_type": "markdown",
   "id": "b585a4b7",
   "metadata": {},
   "source": [
    "Now it is time for some classification! Here we will basically have 4 types of classifier from sklearn library which are:\n",
    "\n",
    "1- K-nearest Neighbor Classifier\n",
    "\n",
    "2- Support Vector Classifier\n",
    "\n",
    "3- Gaussian Naive Bayes\n",
    "\n",
    "4- Multilayer Perceptron\n",
    "\n",
    "Since their way of taking features were similar, we considered these classifiers as good for comparison of classification and setting their setting easily. While doing that, we tried to look for good hyperparameters for Knn (value of k) and Multilayer Perceptron (Number of hidden layer, learning rate init). Since others didn't have any validation process, we only used testing on these classifiers.\n",
    "\n"
   ]
  },
  {
   "cell_type": "code",
   "execution_count": 40,
   "id": "34cc2093",
   "metadata": {},
   "outputs": [],
   "source": [
    "from sklearn.neighbors import KNeighborsClassifier\n",
    "from sklearn.metrics import confusion_matrix\n",
    "from sklearn.metrics import classification_report\n",
    "from sklearn.svm import SVC\n",
    "from sklearn.naive_bayes import GaussianNB\n",
    "from sklearn.neural_network import MLPClassifier\n",
    "from sklearn.metrics import precision_recall_fscore_support as score\n",
    "from sklearn.metrics import ConfusionMatrixDisplay"
   ]
  },
  {
   "cell_type": "markdown",
   "id": "54b2fc15",
   "metadata": {},
   "source": [
    "###  1-Classification with K nearest neighbors"
   ]
  },
  {
   "cell_type": "markdown",
   "id": "7f00d92d",
   "metadata": {},
   "source": [
    "Let's first search for best k value for knn classifier using the features of distribution where we had no common artists."
   ]
  },
  {
   "cell_type": "code",
   "execution_count": 36,
   "id": "fccbf7e1",
   "metadata": {
    "scrolled": true
   },
   "outputs": [
    {
     "name": "stdout",
     "output_type": "stream",
     "text": [
      "Macro avg fscore for k = 1 is 0.43371438375983107\n",
      "Macro avg fscore for k = 2 is 0.38117336465675955\n",
      "Macro avg fscore for k = 3 is 0.3847000917279099\n",
      "Macro avg fscore for k = 4 is 0.4152372303150982\n",
      "Macro avg fscore for k = 5 is 0.41459719204733625\n",
      "Macro avg fscore for k = 6 is 0.41580414847325586\n",
      "Macro avg fscore for k = 7 is 0.40502259180414996\n",
      "Macro avg fscore for k = 8 is 0.3863112768163919\n",
      "Macro avg fscore for k = 9 is 0.3995443898057722\n",
      "Macro avg fscore for k = 10 is 0.3933874672221861\n",
      "Macro avg fscore for k = 11 is 0.4060997243703569\n",
      "Macro avg fscore for k = 12 is 0.39455937074784453\n",
      "Macro avg fscore for k = 13 is 0.40075124792364825\n",
      "Macro avg fscore for k = 14 is 0.39691336929331755\n",
      "Macro avg fscore for k = 15 is 0.4091945371660871\n",
      "Macro avg fscore for k = 16 is 0.4051603978362345\n",
      "Macro avg fscore for k = 17 is 0.40295427324827937\n",
      "Macro avg fscore for k = 18 is 0.39954873620573006\n",
      "Macro avg fscore for k = 19 is 0.38884149779133126\n",
      "Macro avg fscore for k = 20 is 0.3926757358273647\n"
     ]
    }
   ],
   "source": [
    "k_values = [1, 2, 3, 4, 5, 6, 7, 8, 9, 10, 11, 12, 13, 14, 15, 16, 17, 18, 19, 20]\n",
    "f_scores = []\n",
    "\n",
    "for k in k_values:\n",
    "    knn_clf = KNeighborsClassifier(n_neighbors=k)\n",
    "    knn_clf.fit(X_train,y_train)\n",
    "    knn_pred = knn_clf.predict(X_valid)\n",
    "    y_pred_song = fext.majority_vote(knn_pred, valid_genre_song_length_list)\n",
    "    y_pred = y_pred_song\n",
    "    y_true = np.array(valid_song_labels)\n",
    "    precision,recall,fscore,support=score(y_true,y_pred,average='macro')\n",
    "    print(\"Macro avg fscore for k = \"+ str(k) + \" is \" + str(fscore))\n",
    "    f_scores.append(fscore)\n",
    "    "
   ]
  },
  {
   "cell_type": "markdown",
   "id": "7ddc07b3",
   "metadata": {},
   "source": [
    "From these results, we see the highest fscore for macro avg in k = 1 case so we will go with that value for classification of no commom artists and common artists cases."
   ]
  },
  {
   "cell_type": "markdown",
   "id": "f15b8988",
   "metadata": {},
   "source": [
    "#### 1- a) KNN classification for no common artist"
   ]
  },
  {
   "cell_type": "code",
   "execution_count": 37,
   "id": "a6fd0dc2",
   "metadata": {},
   "outputs": [
    {
     "data": {
      "text/plain": [
       "KNeighborsClassifier(n_neighbors=1)"
      ]
     },
     "execution_count": 37,
     "metadata": {},
     "output_type": "execute_result"
    }
   ],
   "source": [
    "knn_clf = KNeighborsClassifier(n_neighbors=1)\n",
    "knn_clf.fit(X_train,y_train)\n"
   ]
  },
  {
   "cell_type": "code",
   "execution_count": 52,
   "id": "17db9660",
   "metadata": {},
   "outputs": [],
   "source": [
    "knn_pred = knn_clf.predict(X_test)"
   ]
  },
  {
   "cell_type": "code",
   "execution_count": 53,
   "id": "407b477c",
   "metadata": {},
   "outputs": [],
   "source": [
    "y_pred_song = fext.majority_vote(knn_pred, test_genre_song_length_list)"
   ]
  },
  {
   "cell_type": "code",
   "execution_count": 54,
   "id": "62d2dfa9",
   "metadata": {
    "scrolled": false
   },
   "outputs": [
    {
     "name": "stdout",
     "output_type": "stream",
     "text": [
      "                     precision    recall  f1-score   support\n",
      "\n",
      "            Hip-Hop       0.45      0.68      0.54        50\n",
      "                Pop       0.15      0.12      0.13        50\n",
      "               Rock       0.57      0.57      0.57        49\n",
      "               Folk       0.32      0.44      0.37        50\n",
      "       Experimental       0.50      0.18      0.26        50\n",
      "         Electronic       0.29      0.20      0.24        50\n",
      "          Classical       0.57      0.58      0.57        50\n",
      "Old-Time / Historic       0.73      0.92      0.81        50\n",
      "\n",
      "           accuracy                           0.46       399\n",
      "          macro avg       0.45      0.46      0.44       399\n",
      "       weighted avg       0.45      0.46      0.44       399\n",
      "\n"
     ]
    },
    {
     "data": {
      "text/plain": [
       "<Figure size 1224x720 with 0 Axes>"
      ]
     },
     "metadata": {},
     "output_type": "display_data"
    },
    {
     "data": {
      "image/png": "[encoded data removed]",
      "text/plain": [
       "<Figure size 1224x720 with 2 Axes>"
      ]
     },
     "metadata": {
      "needs_background": "light"
     },
     "output_type": "display_data"
    }
   ],
   "source": [
    "#Renaiming of predicted and true lables\n",
    "y_pred = y_pred_song\n",
    "y_true = np.array(test_song_labels)\n",
    "\n",
    "#Calculating and printing confusion matrix\n",
    "cm = confusion_matrix(y_true, y_pred)\n",
    "plt.figure()\n",
    "disp = ConfusionMatrixDisplay(confusion_matrix=cm,display_labels=chosen_genres)\n",
    "disp.plot() \n",
    "\n",
    "print(classification_report(y_true, y_pred,\n",
    "                            target_names=chosen_genres))"
   ]
  },
  {
   "cell_type": "markdown",
   "id": "41884de2",
   "metadata": {},
   "source": [
    "#### 1- b)KNN classification for common artist"
   ]
  },
  {
   "cell_type": "code",
   "execution_count": 70,
   "id": "5fd26f28",
   "metadata": {
    "scrolled": false
   },
   "outputs": [
    {
     "name": "stdout",
     "output_type": "stream",
     "text": [
      "                     precision    recall  f1-score   support\n",
      "\n",
      "            Hip-Hop       0.49      0.74      0.59        50\n",
      "                Pop       0.27      0.20      0.23        50\n",
      "               Rock       0.59      0.54      0.56        50\n",
      "               Folk       0.47      0.54      0.50        50\n",
      "       Experimental       0.41      0.28      0.33        50\n",
      "         Electronic       0.47      0.38      0.42        50\n",
      "          Classical       0.69      0.82      0.75        50\n",
      "Old-Time / Historic       0.90      0.92      0.91        50\n",
      "\n",
      "           accuracy                           0.55       400\n",
      "          macro avg       0.54      0.55      0.54       400\n",
      "       weighted avg       0.54      0.55      0.54       400\n",
      "\n"
     ]
    },
    {
     "data": {
      "text/plain": [
       "<Figure size 1224x720 with 0 Axes>"
      ]
     },
     "metadata": {},
     "output_type": "display_data"
    },
    {
     "data": {
      "image/png": "[encoded data removed]",
      "text/plain": [
       "<Figure size 1224x720 with 2 Axes>"
      ]
     },
     "metadata": {
      "needs_background": "light"
     },
     "output_type": "display_data"
    }
   ],
   "source": [
    "knn_clf_rand = KNeighborsClassifier(n_neighbors=1)\n",
    "knn_clf_rand.fit(X_train_rand,y_train_rand)\n",
    "knn_pred_rand = knn_clf_rand.predict(X_test_rand)\n",
    "y_pred_song_rand = fext.majority_vote(knn_pred_rand, test_genre_song_length_list_rand)\n",
    "#Renaiming of predicted and true lables\n",
    "y_pred = y_pred_song_rand\n",
    "y_true = np.array(test_song_labels_rand)\n",
    "\n",
    "#Calculating and printing confusion matrix\n",
    "cm = confusion_matrix(y_true, y_pred)\n",
    "plt.figure()\n",
    "disp = ConfusionMatrixDisplay(confusion_matrix=cm,display_labels=chosen_genres)\n",
    "disp.plot() \n",
    "\n",
    "print(classification_report(y_true, y_pred,\n",
    "                            target_names=chosen_genres))"
   ]
  },
  {
   "cell_type": "markdown",
   "id": "c1a750ed",
   "metadata": {},
   "source": [
    "Here we can see that how much it affects to include common artists between different datasets of a genre."
   ]
  },
  {
   "cell_type": "markdown",
   "id": "cd82b3f2",
   "metadata": {},
   "source": [
    "### 2-Classification with SVC"
   ]
  },
  {
   "cell_type": "markdown",
   "id": "f47a1227",
   "metadata": {},
   "source": [
    "Now it is time for SVC classification. In order to achieve the best performance, we are going to use Gaussian Kernel to represent complex dataset features. We start with no common artist distribution."
   ]
  },
  {
   "cell_type": "markdown",
   "id": "4e901087",
   "metadata": {},
   "source": [
    "#### 2-a) SVC classification for no common artist "
   ]
  },
  {
   "cell_type": "code",
   "execution_count": 56,
   "id": "7d992cbd",
   "metadata": {},
   "outputs": [
    {
     "data": {
      "text/plain": [
       "SVC()"
      ]
     },
     "execution_count": 56,
     "metadata": {},
     "output_type": "execute_result"
    }
   ],
   "source": [
    "svclassifier = SVC(kernel='rbf')\n",
    "svclassifier.fit(X_train, y_train)"
   ]
  },
  {
   "cell_type": "code",
   "execution_count": 57,
   "id": "73be2253",
   "metadata": {},
   "outputs": [],
   "source": [
    "svm_pred = svclassifier.predict(X_test)"
   ]
  },
  {
   "cell_type": "code",
   "execution_count": 58,
   "id": "fd9032f9",
   "metadata": {},
   "outputs": [],
   "source": [
    "y_pred_song = fext.majority_vote(svm_pred, test_genre_song_length_list)"
   ]
  },
  {
   "cell_type": "code",
   "execution_count": 59,
   "id": "0417088f",
   "metadata": {},
   "outputs": [
    {
     "name": "stdout",
     "output_type": "stream",
     "text": [
      "                     precision    recall  f1-score   support\n",
      "\n",
      "            Hip-Hop       0.45      0.70      0.55        50\n",
      "                Pop       0.33      0.04      0.07        50\n",
      "               Rock       0.56      0.69      0.62        49\n",
      "               Folk       0.37      0.58      0.45        50\n",
      "       Experimental       0.67      0.16      0.26        50\n",
      "         Electronic       0.32      0.24      0.28        50\n",
      "          Classical       0.51      0.64      0.57        50\n",
      "Old-Time / Historic       0.73      0.94      0.82        50\n",
      "\n",
      "           accuracy                           0.50       399\n",
      "          macro avg       0.49      0.50      0.45       399\n",
      "       weighted avg       0.49      0.50      0.45       399\n",
      "\n"
     ]
    },
    {
     "data": {
      "text/plain": [
       "<Figure size 1224x720 with 0 Axes>"
      ]
     },
     "metadata": {},
     "output_type": "display_data"
    },
    {
     "data": {
      "image/png": "[encoded data removed]",
      "text/plain": [
       "<Figure size 1224x720 with 2 Axes>"
      ]
     },
     "metadata": {
      "needs_background": "light"
     },
     "output_type": "display_data"
    }
   ],
   "source": [
    "#Renaiming of predicted and true lables\n",
    "y_pred = y_pred_song\n",
    "y_true = np.array(test_song_labels)\n",
    "\n",
    "#Calculating and printing confusion matrix\n",
    "cm = confusion_matrix(y_true, y_pred)\n",
    "plt.figure()\n",
    "disp = ConfusionMatrixDisplay(confusion_matrix=cm,display_labels=chosen_genres)\n",
    "disp.plot() \n",
    "\n",
    "print(classification_report(y_true, y_pred,\n",
    "                            target_names=chosen_genres))"
   ]
  },
  {
   "cell_type": "markdown",
   "id": "8091e8ba",
   "metadata": {},
   "source": [
    "#### 2-b) SVC classification for common artist "
   ]
  },
  {
   "cell_type": "code",
   "execution_count": 60,
   "id": "45f7af8c",
   "metadata": {},
   "outputs": [
    {
     "data": {
      "text/plain": [
       "SVC()"
      ]
     },
     "execution_count": 60,
     "metadata": {},
     "output_type": "execute_result"
    }
   ],
   "source": [
    "svclassifier_rand = SVC(kernel='rbf')\n",
    "svclassifier_rand.fit(X_train_rand, y_train_rand)\n"
   ]
  },
  {
   "cell_type": "code",
   "execution_count": 71,
   "id": "0ef8ac9e",
   "metadata": {},
   "outputs": [
    {
     "name": "stdout",
     "output_type": "stream",
     "text": [
      "                     precision    recall  f1-score   support\n",
      "\n",
      "            Hip-Hop       0.52      0.78      0.62        50\n",
      "                Pop       0.25      0.02      0.04        50\n",
      "               Rock       0.53      0.64      0.58        50\n",
      "               Folk       0.42      0.62      0.50        50\n",
      "       Experimental       0.45      0.26      0.33        50\n",
      "         Electronic       0.44      0.36      0.40        50\n",
      "          Classical       0.57      0.78      0.66        50\n",
      "Old-Time / Historic       0.86      0.86      0.86        50\n",
      "\n",
      "           accuracy                           0.54       400\n",
      "          macro avg       0.51      0.54      0.50       400\n",
      "       weighted avg       0.51      0.54      0.50       400\n",
      "\n"
     ]
    },
    {
     "data": {
      "text/plain": [
       "<Figure size 1224x720 with 0 Axes>"
      ]
     },
     "metadata": {},
     "output_type": "display_data"
    },
    {
     "data": {
      "image/png": "[encoded data removed]",
      "text/plain": [
       "<Figure size 1224x720 with 2 Axes>"
      ]
     },
     "metadata": {
      "needs_background": "light"
     },
     "output_type": "display_data"
    }
   ],
   "source": [
    "svm_pred_rand = svclassifier_rand.predict(X_test_rand)\n",
    "y_pred_song_rand = fext.majority_vote(svm_pred_rand, test_genre_song_length_list_rand)\n",
    "\n",
    "#Renaiming of predicted and true lables\n",
    "y_pred = y_pred_song_rand\n",
    "y_true = np.array(test_song_labels_rand)\n",
    "\n",
    "#Calculating and printing confusion matrix\n",
    "cm = confusion_matrix(y_true, y_pred)\n",
    "plt.figure()\n",
    "disp = ConfusionMatrixDisplay(confusion_matrix=cm,display_labels=chosen_genres)\n",
    "disp.plot() \n",
    "\n",
    "print(classification_report(y_true, y_pred,\n",
    "                            target_names=chosen_genres))\n"
   ]
  },
  {
   "cell_type": "markdown",
   "id": "76588b36",
   "metadata": {},
   "source": [
    "### 3- Classification with Gaussian Naive Bayes"
   ]
  },
  {
   "cell_type": "markdown",
   "id": "62f253d4",
   "metadata": {},
   "source": [
    "Now we will go with Gaussian Naive Bayes Approach. Since we don't use any hyperparameter here, we are directly running over our features."
   ]
  },
  {
   "cell_type": "markdown",
   "id": "f5a40293",
   "metadata": {},
   "source": [
    "#### 3-a) Gaussian Naive Bayes Classification for no common artists"
   ]
  },
  {
   "cell_type": "code",
   "execution_count": 62,
   "id": "45e91bbb",
   "metadata": {
    "scrolled": true
   },
   "outputs": [
    {
     "data": {
      "text/plain": [
       "GaussianNB()"
      ]
     },
     "execution_count": 62,
     "metadata": {},
     "output_type": "execute_result"
    }
   ],
   "source": [
    "gauss_clf = GaussianNB()\n",
    "gauss_clf.fit(X_train, y_train)"
   ]
  },
  {
   "cell_type": "code",
   "execution_count": 63,
   "id": "d71cc4c1",
   "metadata": {},
   "outputs": [],
   "source": [
    "gauss_pred = gauss_clf.predict(X_test)"
   ]
  },
  {
   "cell_type": "code",
   "execution_count": 64,
   "id": "5c9fbc93",
   "metadata": {},
   "outputs": [],
   "source": [
    "y_pred_song = fext.majority_vote(gauss_pred, test_genre_song_length_list)"
   ]
  },
  {
   "cell_type": "code",
   "execution_count": 65,
   "id": "194aac21",
   "metadata": {},
   "outputs": [
    {
     "name": "stdout",
     "output_type": "stream",
     "text": [
      "                     precision    recall  f1-score   support\n",
      "\n",
      "            Hip-Hop       0.50      0.88      0.64        50\n",
      "                Pop       0.00      0.00      0.00        50\n",
      "               Rock       0.43      0.76      0.55        49\n",
      "               Folk       0.54      0.60      0.57        50\n",
      "       Experimental       0.75      0.12      0.21        50\n",
      "         Electronic       0.26      0.10      0.14        50\n",
      "          Classical       0.48      0.86      0.61        50\n",
      "Old-Time / Historic       0.96      0.94      0.95        50\n",
      "\n",
      "           accuracy                           0.53       399\n",
      "          macro avg       0.49      0.53      0.46       399\n",
      "       weighted avg       0.49      0.53      0.46       399\n",
      "\n"
     ]
    },
    {
     "data": {
      "text/plain": [
       "<Figure size 1224x720 with 0 Axes>"
      ]
     },
     "metadata": {},
     "output_type": "display_data"
    },
    {
     "data": {
      "image/png": "[encoded data removed]",
      "text/plain": [
       "<Figure size 1224x720 with 2 Axes>"
      ]
     },
     "metadata": {
      "needs_background": "light"
     },
     "output_type": "display_data"
    }
   ],
   "source": [
    "#Renaiming of predicted and true lables\n",
    "y_pred = y_pred_song\n",
    "y_true = np.array(test_song_labels)\n",
    "\n",
    "#Calculating and printing confusion matrix\n",
    "cm = confusion_matrix(y_true, y_pred)\n",
    "plt.figure()\n",
    "disp = ConfusionMatrixDisplay(confusion_matrix=cm,display_labels=chosen_genres)\n",
    "disp.plot() \n",
    "\n",
    "print(classification_report(y_true, y_pred,\n",
    "                            target_names=chosen_genres))"
   ]
  },
  {
   "cell_type": "markdown",
   "id": "cfa70ff9",
   "metadata": {},
   "source": [
    "#### 3-b) Gaussian Naive Bayes Classification for common artists"
   ]
  },
  {
   "cell_type": "code",
   "execution_count": 72,
   "id": "897af1e6",
   "metadata": {},
   "outputs": [
    {
     "name": "stdout",
     "output_type": "stream",
     "text": [
      "                     precision    recall  f1-score   support\n",
      "\n",
      "            Hip-Hop       0.53      0.84      0.65        50\n",
      "                Pop       0.50      0.04      0.07        50\n",
      "               Rock       0.31      0.66      0.42        50\n",
      "               Folk       0.45      0.38      0.41        50\n",
      "       Experimental       0.55      0.12      0.20        50\n",
      "         Electronic       0.39      0.14      0.21        50\n",
      "          Classical       0.49      0.86      0.63        50\n",
      "Old-Time / Historic       0.88      0.88      0.88        50\n",
      "\n",
      "           accuracy                           0.49       400\n",
      "          macro avg       0.51      0.49      0.43       400\n",
      "       weighted avg       0.51      0.49      0.43       400\n",
      "\n"
     ]
    },
    {
     "data": {
      "text/plain": [
       "<Figure size 1224x720 with 0 Axes>"
      ]
     },
     "metadata": {},
     "output_type": "display_data"
    },
    {
     "data": {
      "image/png": "[encoded data removed]",
      "text/plain": [
       "<Figure size 1224x720 with 2 Axes>"
      ]
     },
     "metadata": {
      "needs_background": "light"
     },
     "output_type": "display_data"
    }
   ],
   "source": [
    "gauss_clf_rand = GaussianNB()\n",
    "gauss_clf_rand.fit(X_train_rand, y_train_rand)\n",
    "gauss_pred_rand = gauss_clf_rand.predict(X_test_rand)\n",
    "y_pred_song_rand = fext.majority_vote(gauss_pred_rand, test_genre_song_length_list_rand)\n",
    "#Renaiming of predicted and true lables\n",
    "y_pred = y_pred_song_rand\n",
    "y_true = np.array(test_song_labels_rand)\n",
    "\n",
    "#Calculating and printing confusion matrix\n",
    "cm = confusion_matrix(y_true, y_pred)\n",
    "plt.figure()\n",
    "disp = ConfusionMatrixDisplay(confusion_matrix=cm,display_labels=chosen_genres)\n",
    "disp.plot() \n",
    "\n",
    "print(classification_report(y_true, y_pred,\n",
    "                            target_names=chosen_genres))"
   ]
  },
  {
   "cell_type": "markdown",
   "id": "49481a45",
   "metadata": {},
   "source": [
    "### 4- Classification with Multi-layer Perceptron"
   ]
  },
  {
   "cell_type": "markdown",
   "id": "2e1bff76",
   "metadata": {},
   "source": [
    "Now we with our latest classifier which is called multi-layer perceptron. Here we have some hyperparameters that we can optimize such as hidden layer sizes and learning rate initialization. We will try to find the optimal values on our validation dataset."
   ]
  },
  {
   "cell_type": "code",
   "execution_count": 68,
   "id": "d52a63ba",
   "metadata": {
    "scrolled": true
   },
   "outputs": [
    {
     "name": "stdout",
     "output_type": "stream",
     "text": [
      "Macro avg fscore for hl_size = 50 and for lr_init = 0.0001 is 0.45489847986947474\n",
      "Macro avg fscore for hl_size = 50 and for lr_init = 0.001 is 0.48910456787090173\n"
     ]
    },
    {
     "name": "stderr",
     "output_type": "stream",
     "text": [
      "C:\\Users\\arday\\anaconda3\\lib\\site-packages\\sklearn\\metrics\\_classification.py:1248: UndefinedMetricWarning: Precision and F-score are ill-defined and being set to 0.0 in labels with no predicted samples. Use `zero_division` parameter to control this behavior.\n",
      "  _warn_prf(average, modifier, msg_start, len(result))\n"
     ]
    },
    {
     "name": "stdout",
     "output_type": "stream",
     "text": [
      "Macro avg fscore for hl_size = 50 and for lr_init = 0.01 is 0.31719122375381403\n"
     ]
    },
    {
     "name": "stderr",
     "output_type": "stream",
     "text": [
      "C:\\Users\\arday\\anaconda3\\lib\\site-packages\\sklearn\\metrics\\_classification.py:1248: UndefinedMetricWarning: Precision and F-score are ill-defined and being set to 0.0 in labels with no predicted samples. Use `zero_division` parameter to control this behavior.\n",
      "  _warn_prf(average, modifier, msg_start, len(result))\n"
     ]
    },
    {
     "name": "stdout",
     "output_type": "stream",
     "text": [
      "Macro avg fscore for hl_size = 50 and for lr_init = 0.1 is 0.027777777777777776\n",
      "Macro avg fscore for hl_size = 100 and for lr_init = 0.0001 is 0.38634518434443643\n",
      "Macro avg fscore for hl_size = 100 and for lr_init = 0.001 is 0.46837613002703293\n"
     ]
    },
    {
     "name": "stderr",
     "output_type": "stream",
     "text": [
      "C:\\Users\\arday\\anaconda3\\lib\\site-packages\\sklearn\\metrics\\_classification.py:1248: UndefinedMetricWarning: Precision and F-score are ill-defined and being set to 0.0 in labels with no predicted samples. Use `zero_division` parameter to control this behavior.\n",
      "  _warn_prf(average, modifier, msg_start, len(result))\n"
     ]
    },
    {
     "name": "stdout",
     "output_type": "stream",
     "text": [
      "Macro avg fscore for hl_size = 100 and for lr_init = 0.01 is 0.3143199043967272\n"
     ]
    },
    {
     "name": "stderr",
     "output_type": "stream",
     "text": [
      "C:\\Users\\arday\\anaconda3\\lib\\site-packages\\sklearn\\metrics\\_classification.py:1248: UndefinedMetricWarning: Precision and F-score are ill-defined and being set to 0.0 in labels with no predicted samples. Use `zero_division` parameter to control this behavior.\n",
      "  _warn_prf(average, modifier, msg_start, len(result))\n"
     ]
    },
    {
     "name": "stdout",
     "output_type": "stream",
     "text": [
      "Macro avg fscore for hl_size = 100 and for lr_init = 0.1 is 0.027777777777777776\n"
     ]
    },
    {
     "name": "stderr",
     "output_type": "stream",
     "text": [
      "C:\\Users\\arday\\anaconda3\\lib\\site-packages\\sklearn\\metrics\\_classification.py:1248: UndefinedMetricWarning: Precision and F-score are ill-defined and being set to 0.0 in labels with no predicted samples. Use `zero_division` parameter to control this behavior.\n",
      "  _warn_prf(average, modifier, msg_start, len(result))\n"
     ]
    },
    {
     "name": "stdout",
     "output_type": "stream",
     "text": [
      "Macro avg fscore for hl_size = 250 and for lr_init = 0.0001 is 0.4416739783222471\n",
      "Macro avg fscore for hl_size = 250 and for lr_init = 0.001 is 0.49760905728401084\n"
     ]
    },
    {
     "name": "stderr",
     "output_type": "stream",
     "text": [
      "C:\\Users\\arday\\anaconda3\\lib\\site-packages\\sklearn\\metrics\\_classification.py:1248: UndefinedMetricWarning: Precision and F-score are ill-defined and being set to 0.0 in labels with no predicted samples. Use `zero_division` parameter to control this behavior.\n",
      "  _warn_prf(average, modifier, msg_start, len(result))\n"
     ]
    },
    {
     "name": "stdout",
     "output_type": "stream",
     "text": [
      "Macro avg fscore for hl_size = 250 and for lr_init = 0.01 is 0.33571899591636434\n"
     ]
    },
    {
     "name": "stderr",
     "output_type": "stream",
     "text": [
      "C:\\Users\\arday\\anaconda3\\lib\\site-packages\\sklearn\\metrics\\_classification.py:1248: UndefinedMetricWarning: Precision and F-score are ill-defined and being set to 0.0 in labels with no predicted samples. Use `zero_division` parameter to control this behavior.\n",
      "  _warn_prf(average, modifier, msg_start, len(result))\n"
     ]
    },
    {
     "name": "stdout",
     "output_type": "stream",
     "text": [
      "Macro avg fscore for hl_size = 250 and for lr_init = 0.1 is 0.027777777777777776\n",
      "Macro avg fscore for hl_size = 500 and for lr_init = 0.0001 is 0.4116170500761106\n"
     ]
    },
    {
     "name": "stderr",
     "output_type": "stream",
     "text": [
      "C:\\Users\\arday\\anaconda3\\lib\\site-packages\\sklearn\\neural_network\\_multilayer_perceptron.py:619: UserWarning: Training interrupted by user.\n",
      "  warnings.warn(\"Training interrupted by user.\")\n"
     ]
    },
    {
     "name": "stdout",
     "output_type": "stream",
     "text": [
      "Macro avg fscore for hl_size = 500 and for lr_init = 0.001 is 0.5086197660285754\n"
     ]
    },
    {
     "name": "stderr",
     "output_type": "stream",
     "text": [
      "C:\\Users\\arday\\anaconda3\\lib\\site-packages\\sklearn\\metrics\\_classification.py:1248: UndefinedMetricWarning: Precision and F-score are ill-defined and being set to 0.0 in labels with no predicted samples. Use `zero_division` parameter to control this behavior.\n",
      "  _warn_prf(average, modifier, msg_start, len(result))\n"
     ]
    },
    {
     "name": "stdout",
     "output_type": "stream",
     "text": [
      "Macro avg fscore for hl_size = 500 and for lr_init = 0.01 is 0.24505577036649423\n",
      "Macro avg fscore for hl_size = 500 and for lr_init = 0.1 is 0.027777777777777776\n"
     ]
    },
    {
     "name": "stderr",
     "output_type": "stream",
     "text": [
      "C:\\Users\\arday\\anaconda3\\lib\\site-packages\\sklearn\\metrics\\_classification.py:1248: UndefinedMetricWarning: Precision and F-score are ill-defined and being set to 0.0 in labels with no predicted samples. Use `zero_division` parameter to control this behavior.\n",
      "  _warn_prf(average, modifier, msg_start, len(result))\n"
     ]
    }
   ],
   "source": [
    "hl_sizes = [50, 100, 250, 500]\n",
    "lr_inits = [0.0001, 0.001, 0.01, 0.1]\n",
    "f_scores = []\n",
    "\n",
    "for hl_size in hl_sizes:\n",
    "    for lr_init in lr_inits:\n",
    "        mlp_clf = MLPClassifier(hidden_layer_sizes=(hl_size),random_state=1, max_iter=800, learning_rate_init = lr_init)\n",
    "        mlp_clf.fit(X_train, y_train)\n",
    "        mlp_pred = mlp_clf.predict(X_valid)\n",
    "        y_pred_song = fext.majority_vote(mlp_pred, valid_genre_song_length_list)\n",
    "        y_pred = y_pred_song\n",
    "        y_true = np.array(valid_song_labels)\n",
    "        precision,recall,fscore,support=score(y_true,y_pred,average='macro')\n",
    "        print(\"Macro avg fscore for hl_size = \"+ str(hl_size) + \" and for lr_init = \" +str(lr_init) + \" is \" + str(fscore))\n",
    "        f_scores.append(fscore)"
   ]
  },
  {
   "cell_type": "markdown",
   "id": "2dce5fec",
   "metadata": {},
   "source": [
    "From results, in order to be also time efficient we are going to choose hl_size = 50 and lr_init = 0.001 for our optimal training. "
   ]
  },
  {
   "cell_type": "markdown",
   "id": "36526b49",
   "metadata": {},
   "source": [
    "#### 4-a) MLP Classification for no common artists"
   ]
  },
  {
   "cell_type": "code",
   "execution_count": 73,
   "id": "a400d108",
   "metadata": {},
   "outputs": [
    {
     "data": {
      "text/plain": [
       "MLPClassifier(hidden_layer_sizes=50, max_iter=800, random_state=1)"
      ]
     },
     "execution_count": 73,
     "metadata": {},
     "output_type": "execute_result"
    }
   ],
   "source": [
    "mlp_clf = MLPClassifier(hidden_layer_sizes = (50) ,random_state=1, max_iter=800, learning_rate_init = 0.001)\n",
    "mlp_clf.fit(X_train, y_train)"
   ]
  },
  {
   "cell_type": "code",
   "execution_count": 74,
   "id": "77d01825",
   "metadata": {},
   "outputs": [],
   "source": [
    "mlp_pred = mlp_clf.predict(X_test)"
   ]
  },
  {
   "cell_type": "code",
   "execution_count": 87,
   "id": "2c421587",
   "metadata": {},
   "outputs": [],
   "source": [
    "y_pred_song = fext.majority_vote(mlp_pred, test_genre_song_length_list)"
   ]
  },
  {
   "cell_type": "code",
   "execution_count": 88,
   "id": "3e2e0493",
   "metadata": {},
   "outputs": [
    {
     "name": "stdout",
     "output_type": "stream",
     "text": [
      "                     precision    recall  f1-score   support\n",
      "\n",
      "            Hip-Hop       0.50      0.80      0.62        50\n",
      "                Pop       0.19      0.14      0.16        50\n",
      "               Rock       0.71      0.73      0.72        49\n",
      "               Folk       0.50      0.70      0.58        50\n",
      "       Experimental       0.62      0.40      0.49        50\n",
      "         Electronic       0.36      0.08      0.13        50\n",
      "          Classical       0.63      0.86      0.73        50\n",
      "Old-Time / Historic       0.96      0.98      0.97        50\n",
      "\n",
      "           accuracy                           0.59       399\n",
      "          macro avg       0.56      0.59      0.55       399\n",
      "       weighted avg       0.56      0.59      0.55       399\n",
      "\n"
     ]
    },
    {
     "data": {
      "text/plain": [
       "<Figure size 1224x720 with 0 Axes>"
      ]
     },
     "metadata": {},
     "output_type": "display_data"
    },
    {
     "data": {
      "image/png": "[encoded data removed]",
      "text/plain": [
       "<Figure size 1224x720 with 2 Axes>"
      ]
     },
     "metadata": {
      "needs_background": "light"
     },
     "output_type": "display_data"
    }
   ],
   "source": [
    "#Renaiming of predicted and true lables\n",
    "y_pred = y_pred_song\n",
    "y_true = np.array(test_song_labels)\n",
    "\n",
    "#Calculating and printing confusion matrix\n",
    "cm = confusion_matrix(y_true, y_pred)\n",
    "plt.figure()\n",
    "disp = ConfusionMatrixDisplay(confusion_matrix=cm,display_labels=chosen_genres)\n",
    "disp.plot() \n",
    "\n",
    "print(classification_report(y_true, y_pred,\n",
    "                            target_names=chosen_genres))"
   ]
  },
  {
   "cell_type": "markdown",
   "id": "4ec3bdc1",
   "metadata": {},
   "source": [
    "#### 4-b) MLP Classification for common artists"
   ]
  },
  {
   "cell_type": "code",
   "execution_count": 77,
   "id": "76cd2cce",
   "metadata": {},
   "outputs": [
    {
     "ename": "IndexError",
     "evalue": "index 0 is out of bounds for axis 0 with size 0",
     "output_type": "error",
     "traceback": [
      "\u001b[1;31m---------------------------------------------------------------------------\u001b[0m",
      "\u001b[1;31mIndexError\u001b[0m                                Traceback (most recent call last)",
      "\u001b[1;32m<ipython-input-77-fa1a3eaff494>\u001b[0m in \u001b[0;36m<module>\u001b[1;34m\u001b[0m\n\u001b[0;32m      2\u001b[0m \u001b[0mmlp_clf_rand\u001b[0m\u001b[1;33m.\u001b[0m\u001b[0mfit\u001b[0m\u001b[1;33m(\u001b[0m\u001b[0mX_train_rand\u001b[0m\u001b[1;33m,\u001b[0m \u001b[0my_train_rand\u001b[0m\u001b[1;33m)\u001b[0m\u001b[1;33m\u001b[0m\u001b[1;33m\u001b[0m\u001b[0m\n\u001b[0;32m      3\u001b[0m \u001b[0mmlp_pred_rand\u001b[0m \u001b[1;33m=\u001b[0m \u001b[0mmlp_clf_rand\u001b[0m\u001b[1;33m.\u001b[0m\u001b[0mpredict\u001b[0m\u001b[1;33m(\u001b[0m\u001b[0mX_test\u001b[0m\u001b[1;33m)\u001b[0m\u001b[1;33m\u001b[0m\u001b[1;33m\u001b[0m\u001b[0m\n\u001b[1;32m----> 4\u001b[1;33m \u001b[0my_pred_song_rand\u001b[0m \u001b[1;33m=\u001b[0m \u001b[0mfext\u001b[0m\u001b[1;33m.\u001b[0m\u001b[0mmajority_vote\u001b[0m\u001b[1;33m(\u001b[0m\u001b[0mmlp_pred_rand\u001b[0m\u001b[1;33m,\u001b[0m \u001b[0mtest_genre_song_length_list_rand\u001b[0m\u001b[1;33m)\u001b[0m\u001b[1;33m\u001b[0m\u001b[1;33m\u001b[0m\u001b[0m\n\u001b[0m\u001b[0;32m      5\u001b[0m \u001b[1;31m#Renaiming of predicted and true lables\u001b[0m\u001b[1;33m\u001b[0m\u001b[1;33m\u001b[0m\u001b[1;33m\u001b[0m\u001b[0m\n\u001b[0;32m      6\u001b[0m \u001b[0my_pred\u001b[0m \u001b[1;33m=\u001b[0m \u001b[0my_pred_song_rand\u001b[0m\u001b[1;33m\u001b[0m\u001b[1;33m\u001b[0m\u001b[0m\n",
      "\u001b[1;32m~\\Desktop\\KTH Lectures\\Year 2\\Period 1\\DT2470 Music Informatics\\Project\\Workspace\\fma-master\\feature_extraction.py\u001b[0m in \u001b[0;36mmajority_vote\u001b[1;34m(y_pred_frame, y_slen_l)\u001b[0m\n\u001b[0;32m    243\u001b[0m         \u001b[1;31m#finding the most repeating label in frames of current song\u001b[0m\u001b[1;33m\u001b[0m\u001b[1;33m\u001b[0m\u001b[1;33m\u001b[0m\u001b[0m\n\u001b[0;32m    244\u001b[0m         \u001b[0mm\u001b[0m \u001b[1;33m=\u001b[0m \u001b[0mstats\u001b[0m\u001b[1;33m.\u001b[0m\u001b[0mmode\u001b[0m\u001b[1;33m(\u001b[0m \u001b[0my_pred_frame\u001b[0m\u001b[1;33m[\u001b[0m\u001b[0mstart\u001b[0m\u001b[1;33m:\u001b[0m\u001b[0mend\u001b[0m\u001b[1;33m]\u001b[0m \u001b[1;33m)\u001b[0m\u001b[1;33m\u001b[0m\u001b[1;33m\u001b[0m\u001b[0m\n\u001b[1;32m--> 245\u001b[1;33m         \u001b[0mlabel\u001b[0m \u001b[1;33m=\u001b[0m \u001b[0mint\u001b[0m\u001b[1;33m(\u001b[0m\u001b[0mm\u001b[0m\u001b[1;33m[\u001b[0m\u001b[1;36m0\u001b[0m\u001b[1;33m]\u001b[0m\u001b[1;33m[\u001b[0m\u001b[1;36m0\u001b[0m\u001b[1;33m]\u001b[0m\u001b[1;33m)\u001b[0m\u001b[1;33m\u001b[0m\u001b[1;33m\u001b[0m\u001b[0m\n\u001b[0m\u001b[0;32m    246\u001b[0m         \u001b[1;31m#Adding label to song labels list\u001b[0m\u001b[1;33m\u001b[0m\u001b[1;33m\u001b[0m\u001b[1;33m\u001b[0m\u001b[0m\n\u001b[0;32m    247\u001b[0m         \u001b[0my_pred_song\u001b[0m\u001b[1;33m.\u001b[0m\u001b[0mappend\u001b[0m\u001b[1;33m(\u001b[0m\u001b[0mlabel\u001b[0m\u001b[1;33m)\u001b[0m\u001b[1;33m\u001b[0m\u001b[1;33m\u001b[0m\u001b[0m\n",
      "\u001b[1;31mIndexError\u001b[0m: index 0 is out of bounds for axis 0 with size 0"
     ]
    }
   ],
   "source": [
    "mlp_clf_rand = MLPClassifier(hidden_layer_sizes=(50),random_state=1, max_iter=800, learning_rate_init = 0.001)\n",
    "mlp_clf_rand.fit(X_train_rand, y_train_rand)\n",
    "mlp_pred_rand = mlp_clf_rand.predict(X_test)\n"
   ]
  },
  {
   "cell_type": "code",
   "execution_count": 117,
   "id": "76f0a201",
   "metadata": {},
   "outputs": [
    {
     "name": "stdout",
     "output_type": "stream",
     "text": [
      "400\n",
      "                     precision    recall  f1-score   support\n",
      "\n",
      "            Hip-Hop       0.58      0.76      0.66        50\n",
      "                Pop       0.56      0.20      0.29        50\n",
      "               Rock       0.70      0.66      0.68        50\n",
      "               Folk       0.60      0.62      0.61        50\n",
      "       Experimental       0.66      0.62      0.64        50\n",
      "         Electronic       0.42      0.54      0.47        50\n",
      "          Classical       0.80      0.86      0.83        50\n",
      "Old-Time / Historic       0.94      0.98      0.96        50\n",
      "\n",
      "           accuracy                           0.66       400\n",
      "          macro avg       0.66      0.66      0.64       400\n",
      "       weighted avg       0.66      0.66      0.64       400\n",
      "\n"
     ]
    },
    {
     "data": {
      "text/plain": [
       "<Figure size 1224x720 with 0 Axes>"
      ]
     },
     "metadata": {},
     "output_type": "display_data"
    },
    {
     "data": {
      "image/png": "[encoded data removed]",
      "text/plain": [
       "<Figure size 1224x720 with 2 Axes>"
      ]
     },
     "metadata": {
      "needs_background": "light"
     },
     "output_type": "display_data"
    }
   ],
   "source": [
    "y_pred_song_rand = majority_vote(mlp_pred_rand, test_genre_song_length_list_rand)\n",
    "#Renaiming of predicted and true lables\n",
    "y_pred = y_pred_song_rand\n",
    "y_true = np.array(test_song_labels_rand)\n",
    "\n",
    "#Calculating and printing confusion matrix\n",
    "cm = confusion_matrix(y_true, y_pred)\n",
    "plt.figure()\n",
    "disp = ConfusionMatrixDisplay(confusion_matrix=cm,display_labels=chosen_genres)\n",
    "disp.plot() \n",
    "\n",
    "print(classification_report(y_true, y_pred,\n",
    "                            target_names=chosen_genres))"
   ]
  }
 ],
 "metadata": {
  "kernelspec": {
   "display_name": "Python 3",
   "language": "python",
   "name": "python3"
  },
  "language_info": {
   "codemirror_mode": {
    "name": "ipython",
    "version": 3
   },
   "file_extension": ".py",
   "mimetype": "text/x-python",
   "name": "python",
   "nbconvert_exporter": "python",
   "pygments_lexer": "ipython3",
   "version": "3.8.5"
  }
 },
 "nbformat": 4,
 "nbformat_minor": 5
}
